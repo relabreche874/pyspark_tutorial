{
 "cells": [
  {
   "cell_type": "markdown",
   "id": "de055084",
   "metadata": {},
   "source": [
    "# PySpark Tutorial Part VI: MLlib"
   ]
  },
  {
   "cell_type": "code",
   "execution_count": 11,
   "id": "92ca5e91",
   "metadata": {},
   "outputs": [],
   "source": [
    "from pyspark.sql import SparkSession"
   ]
  },
  {
   "cell_type": "code",
   "execution_count": 14,
   "id": "b0fd6a9c",
   "metadata": {},
   "outputs": [
    {
     "name": "stderr",
     "output_type": "stream",
     "text": [
      "Setting default log level to \"WARN\".\n",
      "To adjust logging level use sc.setLogLevel(newLevel). For SparkR, use setLogLevel(newLevel).\n",
      "23/04/19 16:21:03 WARN NativeCodeLoader: Unable to load native-hadoop library for your platform... using builtin-java classes where applicable\n",
      "23/04/19 16:21:04 WARN Utils: Service 'SparkUI' could not bind on port 4040. Attempting port 4041.\n"
     ]
    }
   ],
   "source": [
    "spark = SparkSession.builder.appName('ML').getOrCreate()"
   ]
  },
  {
   "cell_type": "code",
   "execution_count": 15,
   "id": "519bec27",
   "metadata": {},
   "outputs": [],
   "source": [
    "training = spark.read.csv('wines.csv', header=True, inferSchema=True)"
   ]
  },
  {
   "cell_type": "code",
   "execution_count": 17,
   "id": "6dc58756",
   "metadata": {},
   "outputs": [
    {
     "name": "stdout",
     "output_type": "stream",
     "text": [
      "+----+-------------+----------------+-----------+--------------+\n",
      "| _c0|fixed acidity|volatile acidity|citric acid|residual sugar|\n",
      "+----+-------------+----------------+-----------+--------------+\n",
      "|1665|          6.4|            0.26|       0.24|           6.4|\n",
      "|1749|          7.9|            0.22|       0.38|           8.0|\n",
      "|1774|          6.9|            0.23|        0.4|           7.5|\n",
      "|1791|          6.8|            0.28|       0.36|           8.0|\n",
      "|1802|          6.8|            0.26|       0.34|          13.9|\n",
      "|1910|          5.0|            0.55|       0.14|           8.3|\n",
      "|1917|          5.9|             0.3|       0.47|          7.85|\n",
      "|1950|          7.3|            0.33|        0.4|          6.85|\n",
      "|1952|          7.3|            0.33|        0.4|          6.85|\n",
      "+----+-------------+----------------+-----------+--------------+\n",
      "\n"
     ]
    },
    {
     "name": "stderr",
     "output_type": "stream",
     "text": [
      "23/04/19 16:21:45 WARN CSVHeaderChecker: CSV header does not conform to the schema.\n",
      " Header: , fixed acidity, volatile acidity, citric acid, residual sugar\n",
      " Schema: _c0, fixed acidity, volatile acidity, citric acid, residual sugar\n",
      "Expected: _c0 but found: \n",
      "CSV file: file:///Users/robert/Desktop/DataProjects/PySpark%20Tutorial/wines.csv\n"
     ]
    }
   ],
   "source": [
    "training.show()"
   ]
  },
  {
   "cell_type": "code",
   "execution_count": 18,
   "id": "45b7221c",
   "metadata": {},
   "outputs": [
    {
     "name": "stdout",
     "output_type": "stream",
     "text": [
      "root\n",
      " |-- _c0: integer (nullable = true)\n",
      " |-- fixed acidity: double (nullable = true)\n",
      " |-- volatile acidity: double (nullable = true)\n",
      " |-- citric acid: double (nullable = true)\n",
      " |-- residual sugar: double (nullable = true)\n",
      "\n"
     ]
    }
   ],
   "source": [
    "training.printSchema()"
   ]
  },
  {
   "cell_type": "code",
   "execution_count": 37,
   "id": "6fbd654a",
   "metadata": {},
   "outputs": [],
   "source": [
    "# ['fixed acidity', 'residual sugar']---> new feature--->independent features"
   ]
  },
  {
   "cell_type": "code",
   "execution_count": 38,
   "id": "08e7a87e",
   "metadata": {},
   "outputs": [],
   "source": [
    "from pyspark.ml.feature import VectorAssembler"
   ]
  },
  {
   "cell_type": "code",
   "execution_count": 39,
   "id": "520c4aa4",
   "metadata": {},
   "outputs": [],
   "source": [
    "featureassembler = VectorAssembler(inputCols=['fixed acidity', 'residual sugar'], outputCol=\"independentfeatures\")"
   ]
  },
  {
   "cell_type": "code",
   "execution_count": 40,
   "id": "6ac9c5b3",
   "metadata": {},
   "outputs": [],
   "source": [
    "output = featureassembler.transform(training)"
   ]
  },
  {
   "cell_type": "code",
   "execution_count": 41,
   "id": "9a93b148",
   "metadata": {},
   "outputs": [
    {
     "name": "stdout",
     "output_type": "stream",
     "text": [
      "+----+-------------+----------------+-----------+--------------+-------------------+\n",
      "| _c0|fixed acidity|volatile acidity|citric acid|residual sugar|independentfeatures|\n",
      "+----+-------------+----------------+-----------+--------------+-------------------+\n",
      "|1665|          6.4|            0.26|       0.24|           6.4|          [6.4,6.4]|\n",
      "|1749|          7.9|            0.22|       0.38|           8.0|          [7.9,8.0]|\n",
      "|1774|          6.9|            0.23|        0.4|           7.5|          [6.9,7.5]|\n",
      "|1791|          6.8|            0.28|       0.36|           8.0|          [6.8,8.0]|\n",
      "|1802|          6.8|            0.26|       0.34|          13.9|         [6.8,13.9]|\n",
      "|1910|          5.0|            0.55|       0.14|           8.3|          [5.0,8.3]|\n",
      "|1917|          5.9|             0.3|       0.47|          7.85|         [5.9,7.85]|\n",
      "|1950|          7.3|            0.33|        0.4|          6.85|         [7.3,6.85]|\n",
      "|1952|          7.3|            0.33|        0.4|          6.85|         [7.3,6.85]|\n",
      "+----+-------------+----------------+-----------+--------------+-------------------+\n",
      "\n"
     ]
    },
    {
     "name": "stderr",
     "output_type": "stream",
     "text": [
      "23/04/19 16:33:32 WARN CSVHeaderChecker: CSV header does not conform to the schema.\n",
      " Header: , fixed acidity, volatile acidity, citric acid, residual sugar\n",
      " Schema: _c0, fixed acidity, volatile acidity, citric acid, residual sugar\n",
      "Expected: _c0 but found: \n",
      "CSV file: file:///Users/robert/Desktop/DataProjects/PySpark%20Tutorial/wines.csv\n"
     ]
    }
   ],
   "source": [
    "output.show()"
   ]
  },
  {
   "cell_type": "code",
   "execution_count": 42,
   "id": "c76b8b98",
   "metadata": {},
   "outputs": [
    {
     "data": {
      "text/plain": [
       "['_c0',\n",
       " 'fixed acidity',\n",
       " 'volatile acidity',\n",
       " 'citric acid',\n",
       " 'residual sugar',\n",
       " 'independentfeatures']"
      ]
     },
     "execution_count": 42,
     "metadata": {},
     "output_type": "execute_result"
    }
   ],
   "source": [
    "output.columns"
   ]
  },
  {
   "cell_type": "code",
   "execution_count": 43,
   "id": "26efaf89",
   "metadata": {},
   "outputs": [],
   "source": [
    "finaldata = output.select('independentfeatures', 'citric acid')"
   ]
  },
  {
   "cell_type": "code",
   "execution_count": 44,
   "id": "0d80c137",
   "metadata": {},
   "outputs": [
    {
     "name": "stdout",
     "output_type": "stream",
     "text": [
      "+-------------------+-----------+\n",
      "|independentfeatures|citric acid|\n",
      "+-------------------+-----------+\n",
      "|          [6.4,6.4]|       0.24|\n",
      "|          [7.9,8.0]|       0.38|\n",
      "|          [6.9,7.5]|        0.4|\n",
      "|          [6.8,8.0]|       0.36|\n",
      "|         [6.8,13.9]|       0.34|\n",
      "|          [5.0,8.3]|       0.14|\n",
      "|         [5.9,7.85]|       0.47|\n",
      "|         [7.3,6.85]|        0.4|\n",
      "|         [7.3,6.85]|        0.4|\n",
      "+-------------------+-----------+\n",
      "\n"
     ]
    }
   ],
   "source": [
    "finaldata.show()"
   ]
  },
  {
   "cell_type": "code",
   "execution_count": 46,
   "id": "3d17b074",
   "metadata": {},
   "outputs": [
    {
     "name": "stderr",
     "output_type": "stream",
     "text": [
      "23/04/19 16:36:38 WARN Instrumentation: [2ac35279] regParam is zero, which might cause numerical instability and overfitting.\n",
      "23/04/19 16:36:38 WARN InstanceBuilder: Failed to load implementation from:dev.ludovic.netlib.blas.JNIBLAS\n",
      "23/04/19 16:36:38 WARN InstanceBuilder: Failed to load implementation from:dev.ludovic.netlib.lapack.JNILAPACK\n"
     ]
    }
   ],
   "source": [
    "from pyspark.ml.regression import LinearRegression\n",
    "# train/test split\n",
    "train_data, test_data = finaldata.randomSplit([0.75, 0.25])\n",
    "regressor = LinearRegression(featuresCol='independentfeatures', labelCol='citric acid')\n",
    "regressor=regressor.fit(train_data)"
   ]
  },
  {
   "cell_type": "code",
   "execution_count": 47,
   "id": "83e2a649",
   "metadata": {},
   "outputs": [
    {
     "data": {
      "text/plain": [
       "DenseVector([0.0669, -0.0004])"
      ]
     },
     "execution_count": 47,
     "metadata": {},
     "output_type": "execute_result"
    }
   ],
   "source": [
    "# coefficients\n",
    "regressor.coefficients"
   ]
  },
  {
   "cell_type": "code",
   "execution_count": 48,
   "id": "33d253dd",
   "metadata": {},
   "outputs": [
    {
     "data": {
      "text/plain": [
       "-0.10210146923059968"
      ]
     },
     "execution_count": 48,
     "metadata": {},
     "output_type": "execute_result"
    }
   ],
   "source": [
    "# intercepts\n",
    "regressor.intercept"
   ]
  },
  {
   "cell_type": "code",
   "execution_count": 50,
   "id": "4767e253",
   "metadata": {},
   "outputs": [],
   "source": [
    "# prediction\n",
    "pred_results = regressor.evaluate(test_data)"
   ]
  },
  {
   "cell_type": "code",
   "execution_count": 51,
   "id": "a2ee3869",
   "metadata": {},
   "outputs": [
    {
     "name": "stdout",
     "output_type": "stream",
     "text": [
      "+-------------------+-----------+-------------------+\n",
      "|independentfeatures|citric acid|         prediction|\n",
      "+-------------------+-----------+-------------------+\n",
      "|          [6.9,7.5]|        0.4|0.35664259037787693|\n",
      "+-------------------+-----------+-------------------+\n",
      "\n"
     ]
    }
   ],
   "source": [
    "pred_results.predictions.show()"
   ]
  },
  {
   "cell_type": "code",
   "execution_count": 52,
   "id": "c2fe9535",
   "metadata": {},
   "outputs": [
    {
     "data": {
      "text/plain": [
       "(0.04335740962212309, 0.0018798649691405718)"
      ]
     },
     "execution_count": 52,
     "metadata": {},
     "output_type": "execute_result"
    }
   ],
   "source": [
    "pred_results.meanAbsoluteError,pred_results.meanSquaredError"
   ]
  },
  {
   "cell_type": "code",
   "execution_count": null,
   "id": "0c691cb6",
   "metadata": {},
   "outputs": [],
   "source": []
  },
  {
   "cell_type": "code",
   "execution_count": null,
   "id": "c8fff464",
   "metadata": {},
   "outputs": [],
   "source": []
  },
  {
   "cell_type": "code",
   "execution_count": null,
   "id": "01639496",
   "metadata": {},
   "outputs": [],
   "source": []
  },
  {
   "cell_type": "code",
   "execution_count": null,
   "id": "d914067f",
   "metadata": {},
   "outputs": [],
   "source": []
  },
  {
   "cell_type": "code",
   "execution_count": null,
   "id": "52a1818d",
   "metadata": {},
   "outputs": [],
   "source": []
  },
  {
   "cell_type": "code",
   "execution_count": null,
   "id": "18b11b6b",
   "metadata": {},
   "outputs": [],
   "source": []
  },
  {
   "cell_type": "code",
   "execution_count": null,
   "id": "10bb1635",
   "metadata": {},
   "outputs": [],
   "source": []
  },
  {
   "cell_type": "code",
   "execution_count": null,
   "id": "d989cb89",
   "metadata": {},
   "outputs": [],
   "source": []
  }
 ],
 "metadata": {
  "kernelspec": {
   "display_name": "venv",
   "language": "python",
   "name": "venv"
  },
  "language_info": {
   "codemirror_mode": {
    "name": "ipython",
    "version": 3
   },
   "file_extension": ".py",
   "mimetype": "text/x-python",
   "name": "python",
   "nbconvert_exporter": "python",
   "pygments_lexer": "ipython3",
   "version": "3.11.2"
  }
 },
 "nbformat": 4,
 "nbformat_minor": 5
}
