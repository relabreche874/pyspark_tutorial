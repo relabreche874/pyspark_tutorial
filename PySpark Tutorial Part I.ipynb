{
 "cells": [
  {
   "cell_type": "code",
   "execution_count": 2,
   "id": "cb574476",
   "metadata": {},
   "outputs": [],
   "source": [
    "import pyspark\n",
    "import random"
   ]
  },
  {
   "cell_type": "markdown",
   "id": "e99082ed",
   "metadata": {},
   "source": [
    "# PySpark Tutorial Part I: Practice"
   ]
  },
  {
   "cell_type": "code",
   "execution_count": 3,
   "id": "11a58230",
   "metadata": {},
   "outputs": [
    {
     "data": {
      "text/html": [
       "<div>\n",
       "<style scoped>\n",
       "    .dataframe tbody tr th:only-of-type {\n",
       "        vertical-align: middle;\n",
       "    }\n",
       "\n",
       "    .dataframe tbody tr th {\n",
       "        vertical-align: top;\n",
       "    }\n",
       "\n",
       "    .dataframe thead th {\n",
       "        text-align: right;\n",
       "    }\n",
       "</style>\n",
       "<table border=\"1\" class=\"dataframe\">\n",
       "  <thead>\n",
       "    <tr style=\"text-align: right;\">\n",
       "      <th></th>\n",
       "      <th>Unnamed: 0</th>\n",
       "      <th>fixed acidity</th>\n",
       "      <th>volatile acidity</th>\n",
       "      <th>citric acid</th>\n",
       "      <th>residual sugar</th>\n",
       "      <th>chlorides</th>\n",
       "      <th>free sulfur dioxide</th>\n",
       "      <th>total sulfur dioxide</th>\n",
       "      <th>density</th>\n",
       "      <th>pH</th>\n",
       "      <th>sulphates</th>\n",
       "      <th>alcohol</th>\n",
       "      <th>quality</th>\n",
       "      <th>color</th>\n",
       "      <th>sweet_or_not</th>\n",
       "      <th>i_like_it</th>\n",
       "    </tr>\n",
       "  </thead>\n",
       "  <tbody>\n",
       "    <tr>\n",
       "      <th>0</th>\n",
       "      <td>1665</td>\n",
       "      <td>6.4</td>\n",
       "      <td>0.26</td>\n",
       "      <td>0.24</td>\n",
       "      <td>6.4</td>\n",
       "      <td>0.040</td>\n",
       "      <td>27.0</td>\n",
       "      <td>124.0</td>\n",
       "      <td>0.99030</td>\n",
       "      <td>3.22</td>\n",
       "      <td>0.49</td>\n",
       "      <td>12.60</td>\n",
       "      <td>7</td>\n",
       "      <td>white</td>\n",
       "      <td>True</td>\n",
       "      <td>True</td>\n",
       "    </tr>\n",
       "    <tr>\n",
       "      <th>1</th>\n",
       "      <td>1749</td>\n",
       "      <td>7.9</td>\n",
       "      <td>0.22</td>\n",
       "      <td>0.38</td>\n",
       "      <td>8.0</td>\n",
       "      <td>0.043</td>\n",
       "      <td>46.0</td>\n",
       "      <td>152.0</td>\n",
       "      <td>0.99340</td>\n",
       "      <td>3.12</td>\n",
       "      <td>0.32</td>\n",
       "      <td>11.50</td>\n",
       "      <td>7</td>\n",
       "      <td>white</td>\n",
       "      <td>True</td>\n",
       "      <td>True</td>\n",
       "    </tr>\n",
       "    <tr>\n",
       "      <th>2</th>\n",
       "      <td>1774</td>\n",
       "      <td>6.9</td>\n",
       "      <td>0.23</td>\n",
       "      <td>0.40</td>\n",
       "      <td>7.5</td>\n",
       "      <td>0.040</td>\n",
       "      <td>50.0</td>\n",
       "      <td>151.0</td>\n",
       "      <td>0.99270</td>\n",
       "      <td>3.11</td>\n",
       "      <td>0.27</td>\n",
       "      <td>11.40</td>\n",
       "      <td>6</td>\n",
       "      <td>white</td>\n",
       "      <td>True</td>\n",
       "      <td>True</td>\n",
       "    </tr>\n",
       "    <tr>\n",
       "      <th>3</th>\n",
       "      <td>1791</td>\n",
       "      <td>6.8</td>\n",
       "      <td>0.28</td>\n",
       "      <td>0.36</td>\n",
       "      <td>8.0</td>\n",
       "      <td>0.045</td>\n",
       "      <td>28.0</td>\n",
       "      <td>123.0</td>\n",
       "      <td>0.99280</td>\n",
       "      <td>3.02</td>\n",
       "      <td>0.37</td>\n",
       "      <td>11.40</td>\n",
       "      <td>6</td>\n",
       "      <td>white</td>\n",
       "      <td>True</td>\n",
       "      <td>True</td>\n",
       "    </tr>\n",
       "    <tr>\n",
       "      <th>4</th>\n",
       "      <td>1802</td>\n",
       "      <td>6.8</td>\n",
       "      <td>0.26</td>\n",
       "      <td>0.34</td>\n",
       "      <td>13.9</td>\n",
       "      <td>0.034</td>\n",
       "      <td>39.0</td>\n",
       "      <td>134.0</td>\n",
       "      <td>0.99490</td>\n",
       "      <td>3.33</td>\n",
       "      <td>0.53</td>\n",
       "      <td>12.00</td>\n",
       "      <td>6</td>\n",
       "      <td>white</td>\n",
       "      <td>True</td>\n",
       "      <td>True</td>\n",
       "    </tr>\n",
       "    <tr>\n",
       "      <th>...</th>\n",
       "      <td>...</td>\n",
       "      <td>...</td>\n",
       "      <td>...</td>\n",
       "      <td>...</td>\n",
       "      <td>...</td>\n",
       "      <td>...</td>\n",
       "      <td>...</td>\n",
       "      <td>...</td>\n",
       "      <td>...</td>\n",
       "      <td>...</td>\n",
       "      <td>...</td>\n",
       "      <td>...</td>\n",
       "      <td>...</td>\n",
       "      <td>...</td>\n",
       "      <td>...</td>\n",
       "      <td>...</td>\n",
       "    </tr>\n",
       "    <tr>\n",
       "      <th>280</th>\n",
       "      <td>6436</td>\n",
       "      <td>6.5</td>\n",
       "      <td>0.28</td>\n",
       "      <td>0.38</td>\n",
       "      <td>7.8</td>\n",
       "      <td>0.031</td>\n",
       "      <td>54.0</td>\n",
       "      <td>216.0</td>\n",
       "      <td>0.99154</td>\n",
       "      <td>3.03</td>\n",
       "      <td>0.42</td>\n",
       "      <td>13.10</td>\n",
       "      <td>6</td>\n",
       "      <td>white</td>\n",
       "      <td>True</td>\n",
       "      <td>True</td>\n",
       "    </tr>\n",
       "    <tr>\n",
       "      <th>281</th>\n",
       "      <td>6439</td>\n",
       "      <td>6.8</td>\n",
       "      <td>0.34</td>\n",
       "      <td>0.36</td>\n",
       "      <td>8.9</td>\n",
       "      <td>0.029</td>\n",
       "      <td>44.0</td>\n",
       "      <td>128.0</td>\n",
       "      <td>0.99318</td>\n",
       "      <td>3.28</td>\n",
       "      <td>0.35</td>\n",
       "      <td>11.95</td>\n",
       "      <td>7</td>\n",
       "      <td>white</td>\n",
       "      <td>True</td>\n",
       "      <td>True</td>\n",
       "    </tr>\n",
       "    <tr>\n",
       "      <th>282</th>\n",
       "      <td>6456</td>\n",
       "      <td>7.5</td>\n",
       "      <td>0.38</td>\n",
       "      <td>0.33</td>\n",
       "      <td>9.2</td>\n",
       "      <td>0.043</td>\n",
       "      <td>19.0</td>\n",
       "      <td>116.0</td>\n",
       "      <td>0.99444</td>\n",
       "      <td>3.08</td>\n",
       "      <td>0.42</td>\n",
       "      <td>11.40</td>\n",
       "      <td>6</td>\n",
       "      <td>white</td>\n",
       "      <td>True</td>\n",
       "      <td>True</td>\n",
       "    </tr>\n",
       "    <tr>\n",
       "      <th>283</th>\n",
       "      <td>6469</td>\n",
       "      <td>6.1</td>\n",
       "      <td>0.32</td>\n",
       "      <td>0.28</td>\n",
       "      <td>6.6</td>\n",
       "      <td>0.021</td>\n",
       "      <td>29.0</td>\n",
       "      <td>132.0</td>\n",
       "      <td>0.99188</td>\n",
       "      <td>3.15</td>\n",
       "      <td>0.36</td>\n",
       "      <td>11.45</td>\n",
       "      <td>7</td>\n",
       "      <td>white</td>\n",
       "      <td>True</td>\n",
       "      <td>True</td>\n",
       "    </tr>\n",
       "    <tr>\n",
       "      <th>284</th>\n",
       "      <td>6485</td>\n",
       "      <td>6.2</td>\n",
       "      <td>0.21</td>\n",
       "      <td>0.28</td>\n",
       "      <td>5.7</td>\n",
       "      <td>0.028</td>\n",
       "      <td>45.0</td>\n",
       "      <td>121.0</td>\n",
       "      <td>0.99168</td>\n",
       "      <td>3.21</td>\n",
       "      <td>1.08</td>\n",
       "      <td>12.15</td>\n",
       "      <td>7</td>\n",
       "      <td>white</td>\n",
       "      <td>True</td>\n",
       "      <td>True</td>\n",
       "    </tr>\n",
       "  </tbody>\n",
       "</table>\n",
       "<p>285 rows × 16 columns</p>\n",
       "</div>"
      ],
      "text/plain": [
       "     Unnamed: 0  fixed acidity  volatile acidity  citric acid  residual sugar   \n",
       "0          1665            6.4              0.26         0.24             6.4  \\\n",
       "1          1749            7.9              0.22         0.38             8.0   \n",
       "2          1774            6.9              0.23         0.40             7.5   \n",
       "3          1791            6.8              0.28         0.36             8.0   \n",
       "4          1802            6.8              0.26         0.34            13.9   \n",
       "..          ...            ...               ...          ...             ...   \n",
       "280        6436            6.5              0.28         0.38             7.8   \n",
       "281        6439            6.8              0.34         0.36             8.9   \n",
       "282        6456            7.5              0.38         0.33             9.2   \n",
       "283        6469            6.1              0.32         0.28             6.6   \n",
       "284        6485            6.2              0.21         0.28             5.7   \n",
       "\n",
       "     chlorides  free sulfur dioxide  total sulfur dioxide  density    pH   \n",
       "0        0.040                 27.0                 124.0  0.99030  3.22  \\\n",
       "1        0.043                 46.0                 152.0  0.99340  3.12   \n",
       "2        0.040                 50.0                 151.0  0.99270  3.11   \n",
       "3        0.045                 28.0                 123.0  0.99280  3.02   \n",
       "4        0.034                 39.0                 134.0  0.99490  3.33   \n",
       "..         ...                  ...                   ...      ...   ...   \n",
       "280      0.031                 54.0                 216.0  0.99154  3.03   \n",
       "281      0.029                 44.0                 128.0  0.99318  3.28   \n",
       "282      0.043                 19.0                 116.0  0.99444  3.08   \n",
       "283      0.021                 29.0                 132.0  0.99188  3.15   \n",
       "284      0.028                 45.0                 121.0  0.99168  3.21   \n",
       "\n",
       "     sulphates  alcohol  quality  color  sweet_or_not  i_like_it  \n",
       "0         0.49    12.60        7  white          True       True  \n",
       "1         0.32    11.50        7  white          True       True  \n",
       "2         0.27    11.40        6  white          True       True  \n",
       "3         0.37    11.40        6  white          True       True  \n",
       "4         0.53    12.00        6  white          True       True  \n",
       "..         ...      ...      ...    ...           ...        ...  \n",
       "280       0.42    13.10        6  white          True       True  \n",
       "281       0.35    11.95        7  white          True       True  \n",
       "282       0.42    11.40        6  white          True       True  \n",
       "283       0.36    11.45        7  white          True       True  \n",
       "284       1.08    12.15        7  white          True       True  \n",
       "\n",
       "[285 rows x 16 columns]"
      ]
     },
     "execution_count": 3,
     "metadata": {},
     "output_type": "execute_result"
    }
   ],
   "source": [
    "import pandas as pd\n",
    "pd.read_csv('wines.csv')"
   ]
  },
  {
   "cell_type": "code",
   "execution_count": 4,
   "id": "14d1e7af",
   "metadata": {},
   "outputs": [],
   "source": [
    "from pyspark.sql import SparkSession"
   ]
  },
  {
   "cell_type": "code",
   "execution_count": 6,
   "id": "333e5781",
   "metadata": {},
   "outputs": [
    {
     "name": "stderr",
     "output_type": "stream",
     "text": [
      "23/04/18 15:37:24 WARN Utils: Your hostname, Zipcoders-MacBook-Pro-60.local resolves to a loopback address: 127.0.0.1; using 192.168.3.39 instead (on interface en0)\n",
      "23/04/18 15:37:24 WARN Utils: Set SPARK_LOCAL_IP if you need to bind to another address\n",
      "Setting default log level to \"WARN\".\n",
      "To adjust logging level use sc.setLogLevel(newLevel). For SparkR, use setLogLevel(newLevel).\n",
      "23/04/18 15:37:25 WARN NativeCodeLoader: Unable to load native-hadoop library for your platform... using builtin-java classes where applicable\n"
     ]
    }
   ],
   "source": [
    "spark = SparkSession.builder.appName('Practice').getOrCreate()\n",
    "# Practice is the session name"
   ]
  },
  {
   "cell_type": "code",
   "execution_count": 7,
   "id": "051ed7c9",
   "metadata": {},
   "outputs": [
    {
     "data": {
      "text/html": [
       "\n",
       "            <div>\n",
       "                <p><b>SparkSession - in-memory</b></p>\n",
       "                \n",
       "        <div>\n",
       "            <p><b>SparkContext</b></p>\n",
       "\n",
       "            <p><a href=\"http://192.168.3.39:4040\">Spark UI</a></p>\n",
       "\n",
       "            <dl>\n",
       "              <dt>Version</dt>\n",
       "                <dd><code>v3.4.0</code></dd>\n",
       "              <dt>Master</dt>\n",
       "                <dd><code>local[*]</code></dd>\n",
       "              <dt>AppName</dt>\n",
       "                <dd><code>Practice</code></dd>\n",
       "            </dl>\n",
       "        </div>\n",
       "        \n",
       "            </div>\n",
       "        "
      ],
      "text/plain": [
       "<pyspark.sql.session.SparkSession at 0x11fa90cd0>"
      ]
     },
     "execution_count": 7,
     "metadata": {},
     "output_type": "execute_result"
    }
   ],
   "source": [
    "spark"
   ]
  },
  {
   "cell_type": "code",
   "execution_count": 12,
   "id": "51e6fb4a",
   "metadata": {},
   "outputs": [],
   "source": [
    "df_pyspark = spark.read.csv('wines.csv')"
   ]
  },
  {
   "cell_type": "code",
   "execution_count": 13,
   "id": "c0666912",
   "metadata": {},
   "outputs": [
    {
     "name": "stdout",
     "output_type": "stream",
     "text": [
      "+----+-------------+----------------+-----------+--------------+------------------+-------------------+--------------------+-------+----+---------+-------+-------+-----+------------+---------+\n",
      "| _c0|          _c1|             _c2|        _c3|           _c4|               _c5|                _c6|                 _c7|    _c8| _c9|     _c10|   _c11|   _c12| _c13|        _c14|     _c15|\n",
      "+----+-------------+----------------+-----------+--------------+------------------+-------------------+--------------------+-------+----+---------+-------+-------+-----+------------+---------+\n",
      "|null|fixed acidity|volatile acidity|citric acid|residual sugar|         chlorides|free sulfur dioxide|total sulfur dioxide|density|  pH|sulphates|alcohol|quality|color|sweet_or_not|i_like_it|\n",
      "|1665|          6.4|            0.26|       0.24|           6.4|              0.04|               27.0|               124.0| 0.9903|3.22|     0.49|   12.6|      7|white|        True|     True|\n",
      "|1749|          7.9|            0.22|       0.38|           8.0|             0.043|               46.0|               152.0| 0.9934|3.12|     0.32|   11.5|      7|white|        True|     True|\n",
      "|1774|          6.9|            0.23|        0.4|           7.5|              0.04|               50.0|               151.0| 0.9927|3.11|     0.27|   11.4|      6|white|        True|     True|\n",
      "|1791|          6.8|            0.28|       0.36|           8.0|             0.045|               28.0|               123.0| 0.9928|3.02|     0.37|   11.4|      6|white|        True|     True|\n",
      "|1802|          6.8|            0.26|       0.34|          13.9|             0.034|               39.0|               134.0| 0.9949|3.33|     0.53|   12.0|      6|white|        True|     True|\n",
      "|1910|          5.0|            0.55|       0.14|           8.3|             0.032|               35.0|               164.0| 0.9918|3.53|     0.51|   12.5|      8|white|        True|     True|\n",
      "|1917|          5.9|             0.3|       0.47|          7.85|              0.03|               19.0|               133.0| 0.9933|3.52|     0.43|   11.5|      7|white|        True|     True|\n",
      "|1950|          7.3|            0.33|        0.4|          6.85|             0.038|               32.0|               138.0|  0.992|3.03|      0.3|   11.9|      7|white|        True|     True|\n",
      "|1952|          7.3|            0.33|        0.4|          6.85|             0.038|               32.0|               138.0|  0.992|3.03|      0.3|   11.9|      7|white|        True|     True|\n",
      "|2003|          6.8|            0.22|       0.31|           6.3|             0.035|               33.0|               170.0| 0.9918|3.24|     0.66|   12.6|      6|white|        True|     True|\n",
      "|2033|          7.0|            0.23|       0.36|           7.1|0.0279999999999999|               31.0|               104.0| 0.9922|3.35|     0.47|   12.1|      8|white|        True|     True|\n",
      "|2034|          6.9|             0.2|       0.37|           6.2|             0.027|               24.0|                97.0|  0.992|3.38|     0.49|   12.2|      7|white|        True|     True|\n",
      "|2094|          5.7|            0.44|       0.13|           7.0|             0.025|               28.0|               173.0| 0.9913|3.33|     0.48|   12.5|      6|white|        True|     True|\n",
      "|2165|          7.2|            0.35|       0.34|          12.4|             0.051|                6.0|                37.0| 0.9944|3.13|     0.39|   11.5|      6|white|        True|     True|\n",
      "|2178|          6.0|            0.38|       0.26|           6.0|             0.034|               42.0|               134.0| 0.9912|3.38|     0.38|   12.3|      7|white|        True|     True|\n",
      "|2260|          6.8|            0.25|       0.34|          14.0|             0.032|               47.0|               133.0| 0.9952|3.37|      0.5|   12.2|      7|white|        True|     True|\n",
      "|2271|          7.1|            0.32|       0.34|          14.5|             0.039|               46.0|               150.0|  0.995|3.38|      0.5|   12.5|      8|white|        True|     True|\n",
      "|2346|          7.2|            0.29|        0.4|           7.6|             0.024|               56.0|               177.0| 0.9928|3.04|     0.32|   11.5|      6|white|        True|     True|\n",
      "|2348|          7.3|             0.3|       0.42|          7.35|             0.025|               51.0|               175.0| 0.9928|3.04|     0.32|   11.4|      6|white|        True|     True|\n",
      "+----+-------------+----------------+-----------+--------------+------------------+-------------------+--------------------+-------+----+---------+-------+-------+-----+------------+---------+\n",
      "only showing top 20 rows\n",
      "\n"
     ]
    }
   ],
   "source": [
    "df_pyspark.show()\n",
    "# look at the whole data set"
   ]
  },
  {
   "cell_type": "code",
   "execution_count": 16,
   "id": "a3b90762",
   "metadata": {},
   "outputs": [
    {
     "name": "stdout",
     "output_type": "stream",
     "text": [
      "+----+-------------+----------------+-----------+--------------+------------------+-------------------+--------------------+-------+----+---------+-------+-------+-----+------------+---------+\n",
      "| _c0|fixed acidity|volatile acidity|citric acid|residual sugar|         chlorides|free sulfur dioxide|total sulfur dioxide|density|  pH|sulphates|alcohol|quality|color|sweet_or_not|i_like_it|\n",
      "+----+-------------+----------------+-----------+--------------+------------------+-------------------+--------------------+-------+----+---------+-------+-------+-----+------------+---------+\n",
      "|1665|          6.4|            0.26|       0.24|           6.4|              0.04|               27.0|               124.0| 0.9903|3.22|     0.49|   12.6|      7|white|        True|     True|\n",
      "|1749|          7.9|            0.22|       0.38|           8.0|             0.043|               46.0|               152.0| 0.9934|3.12|     0.32|   11.5|      7|white|        True|     True|\n",
      "|1774|          6.9|            0.23|        0.4|           7.5|              0.04|               50.0|               151.0| 0.9927|3.11|     0.27|   11.4|      6|white|        True|     True|\n",
      "|1791|          6.8|            0.28|       0.36|           8.0|             0.045|               28.0|               123.0| 0.9928|3.02|     0.37|   11.4|      6|white|        True|     True|\n",
      "|1802|          6.8|            0.26|       0.34|          13.9|             0.034|               39.0|               134.0| 0.9949|3.33|     0.53|   12.0|      6|white|        True|     True|\n",
      "|1910|          5.0|            0.55|       0.14|           8.3|             0.032|               35.0|               164.0| 0.9918|3.53|     0.51|   12.5|      8|white|        True|     True|\n",
      "|1917|          5.9|             0.3|       0.47|          7.85|              0.03|               19.0|               133.0| 0.9933|3.52|     0.43|   11.5|      7|white|        True|     True|\n",
      "|1950|          7.3|            0.33|        0.4|          6.85|             0.038|               32.0|               138.0|  0.992|3.03|      0.3|   11.9|      7|white|        True|     True|\n",
      "|1952|          7.3|            0.33|        0.4|          6.85|             0.038|               32.0|               138.0|  0.992|3.03|      0.3|   11.9|      7|white|        True|     True|\n",
      "|2003|          6.8|            0.22|       0.31|           6.3|             0.035|               33.0|               170.0| 0.9918|3.24|     0.66|   12.6|      6|white|        True|     True|\n",
      "|2033|          7.0|            0.23|       0.36|           7.1|0.0279999999999999|               31.0|               104.0| 0.9922|3.35|     0.47|   12.1|      8|white|        True|     True|\n",
      "|2034|          6.9|             0.2|       0.37|           6.2|             0.027|               24.0|                97.0|  0.992|3.38|     0.49|   12.2|      7|white|        True|     True|\n",
      "|2094|          5.7|            0.44|       0.13|           7.0|             0.025|               28.0|               173.0| 0.9913|3.33|     0.48|   12.5|      6|white|        True|     True|\n",
      "|2165|          7.2|            0.35|       0.34|          12.4|             0.051|                6.0|                37.0| 0.9944|3.13|     0.39|   11.5|      6|white|        True|     True|\n",
      "|2178|          6.0|            0.38|       0.26|           6.0|             0.034|               42.0|               134.0| 0.9912|3.38|     0.38|   12.3|      7|white|        True|     True|\n",
      "|2260|          6.8|            0.25|       0.34|          14.0|             0.032|               47.0|               133.0| 0.9952|3.37|      0.5|   12.2|      7|white|        True|     True|\n",
      "|2271|          7.1|            0.32|       0.34|          14.5|             0.039|               46.0|               150.0|  0.995|3.38|      0.5|   12.5|      8|white|        True|     True|\n",
      "|2346|          7.2|            0.29|        0.4|           7.6|             0.024|               56.0|               177.0| 0.9928|3.04|     0.32|   11.5|      6|white|        True|     True|\n",
      "|2348|          7.3|             0.3|       0.42|          7.35|             0.025|               51.0|               175.0| 0.9928|3.04|     0.32|   11.4|      6|white|        True|     True|\n",
      "|2349|          7.2|            0.29|        0.4|           7.6|             0.024|               56.0|               177.0| 0.9928|3.04|     0.32|   11.5|      6|white|        True|     True|\n",
      "+----+-------------+----------------+-----------+--------------+------------------+-------------------+--------------------+-------+----+---------+-------+-------+-----+------------+---------+\n",
      "only showing top 20 rows\n",
      "\n"
     ]
    },
    {
     "name": "stderr",
     "output_type": "stream",
     "text": [
      "23/04/18 16:43:34 WARN CSVHeaderChecker: CSV header does not conform to the schema.\n",
      " Header: , fixed acidity, volatile acidity, citric acid, residual sugar, chlorides, free sulfur dioxide, total sulfur dioxide, density, pH, sulphates, alcohol, quality, color, sweet_or_not, i_like_it\n",
      " Schema: _c0, fixed acidity, volatile acidity, citric acid, residual sugar, chlorides, free sulfur dioxide, total sulfur dioxide, density, pH, sulphates, alcohol, quality, color, sweet_or_not, i_like_it\n",
      "Expected: _c0 but found: \n",
      "CSV file: file:///Users/robert/Desktop/DataProjects/PySpark%20Tutorial/wines.csv\n"
     ]
    }
   ],
   "source": [
    "df_spark = spark.read.option('header', 'true').csv('wines.csv').show()\n",
    "# set the header to the column names"
   ]
  },
  {
   "cell_type": "code",
   "execution_count": 17,
   "id": "8f3b4f90",
   "metadata": {},
   "outputs": [
    {
     "data": {
      "text/plain": [
       "pyspark.sql.dataframe.DataFrame"
      ]
     },
     "execution_count": 17,
     "metadata": {},
     "output_type": "execute_result"
    }
   ],
   "source": [
    "type(df_pyspark)\n",
    "# note the sql.dataframe.DataFrame"
   ]
  },
  {
   "cell_type": "code",
   "execution_count": 18,
   "id": "1981874e",
   "metadata": {},
   "outputs": [
    {
     "data": {
      "text/plain": [
       "[Row(_c0=None, _c1='fixed acidity', _c2='volatile acidity', _c3='citric acid', _c4='residual sugar', _c5='chlorides', _c6='free sulfur dioxide', _c7='total sulfur dioxide', _c8='density', _c9='pH', _c10='sulphates', _c11='alcohol', _c12='quality', _c13='color', _c14='sweet_or_not', _c15='i_like_it'),\n",
       " Row(_c0='1665', _c1='6.4', _c2='0.26', _c3='0.24', _c4='6.4', _c5='0.04', _c6='27.0', _c7='124.0', _c8='0.9903', _c9='3.22', _c10='0.49', _c11='12.6', _c12='7', _c13='white', _c14='True', _c15='True'),\n",
       " Row(_c0='1749', _c1='7.9', _c2='0.22', _c3='0.38', _c4='8.0', _c5='0.043', _c6='46.0', _c7='152.0', _c8='0.9934', _c9='3.12', _c10='0.32', _c11='11.5', _c12='7', _c13='white', _c14='True', _c15='True')]"
      ]
     },
     "execution_count": 18,
     "metadata": {},
     "output_type": "execute_result"
    }
   ],
   "source": [
    "df_pyspark.head(3)"
   ]
  },
  {
   "cell_type": "code",
   "execution_count": 19,
   "id": "abd553d6",
   "metadata": {},
   "outputs": [
    {
     "name": "stdout",
     "output_type": "stream",
     "text": [
      "root\n",
      " |-- _c0: string (nullable = true)\n",
      " |-- _c1: string (nullable = true)\n",
      " |-- _c2: string (nullable = true)\n",
      " |-- _c3: string (nullable = true)\n",
      " |-- _c4: string (nullable = true)\n",
      " |-- _c5: string (nullable = true)\n",
      " |-- _c6: string (nullable = true)\n",
      " |-- _c7: string (nullable = true)\n",
      " |-- _c8: string (nullable = true)\n",
      " |-- _c9: string (nullable = true)\n",
      " |-- _c10: string (nullable = true)\n",
      " |-- _c11: string (nullable = true)\n",
      " |-- _c12: string (nullable = true)\n",
      " |-- _c13: string (nullable = true)\n",
      " |-- _c14: string (nullable = true)\n",
      " |-- _c15: string (nullable = true)\n",
      "\n"
     ]
    }
   ],
   "source": [
    "df_pyspark.printSchema()"
   ]
  }
 ],
 "metadata": {
  "kernelspec": {
   "display_name": "venv",
   "language": "python",
   "name": "venv"
  },
  "language_info": {
   "codemirror_mode": {
    "name": "ipython",
    "version": 3
   },
   "file_extension": ".py",
   "mimetype": "text/x-python",
   "name": "python",
   "nbconvert_exporter": "python",
   "pygments_lexer": "ipython3",
   "version": "3.11.2"
  }
 },
 "nbformat": 4,
 "nbformat_minor": 5
}
