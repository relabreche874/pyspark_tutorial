{
 "cells": [
  {
   "cell_type": "code",
   "execution_count": null,
   "id": "38404533",
   "metadata": {},
   "outputs": [],
   "source": [
    "# PySpark Tutorial Part IV: DataFrames Part II"
   ]
  },
  {
   "cell_type": "code",
   "execution_count": 1,
   "id": "9a271fcb",
   "metadata": {},
   "outputs": [],
   "source": [
    "from pyspark.sql import SparkSession"
   ]
  },
  {
   "cell_type": "code",
   "execution_count": 3,
   "id": "04e037bc",
   "metadata": {},
   "outputs": [],
   "source": [
    "spark = SparkSession.builder.appName('DataFrame').getOrCreate()"
   ]
  },
  {
   "cell_type": "code",
   "execution_count": 4,
   "id": "906822d0",
   "metadata": {},
   "outputs": [],
   "source": [
    "df_pyspark = spark.read.csv('wines.csv', header=True, inferSchema=True)"
   ]
  },
  {
   "cell_type": "code",
   "execution_count": 18,
   "id": "096bd130",
   "metadata": {},
   "outputs": [
    {
     "data": {
      "text/plain": [
       "DataFrame[summary: string, _c0: string, fixed acidity: string, volatile acidity: string, citric acid: string, residual sugar: string, chlorides: string, free sulfur dioxide: string, total sulfur dioxide: string]"
      ]
     },
     "execution_count": 18,
     "metadata": {},
     "output_type": "execute_result"
    }
   ],
   "source": [
    "df_pyspark.describe()"
   ]
  },
  {
   "cell_type": "code",
   "execution_count": 28,
   "id": "593e78db",
   "metadata": {},
   "outputs": [
    {
     "name": "stdout",
     "output_type": "stream",
     "text": [
      "+----+-------------+----------------+-----------+--------------+---------+-------------------+--------------------+\n",
      "| _c0|fixed acidity|volatile acidity|citric acid|residual sugar|chlorides|free sulfur dioxide|total sulfur dioxide|\n",
      "+----+-------------+----------------+-----------+--------------+---------+-------------------+--------------------+\n",
      "|1665|          6.4|            0.26|       0.24|           6.4|     0.04|               27.0|               124.0|\n",
      "|1749|          7.9|            0.22|       0.38|           8.0|    0.043|               46.0|               152.0|\n",
      "|1774|          6.9|            0.23|        0.4|           7.5|     0.04|               50.0|               151.0|\n",
      "+----+-------------+----------------+-----------+--------------+---------+-------------------+--------------------+\n",
      "\n"
     ]
    },
    {
     "name": "stderr",
     "output_type": "stream",
     "text": [
      "23/04/19 15:40:30 WARN CSVHeaderChecker: CSV header does not conform to the schema.\n",
      " Header: , fixed acidity, volatile acidity, citric acid, residual sugar, chlorides, free sulfur dioxide, total sulfur dioxide\n",
      " Schema: _c0, fixed acidity, volatile acidity, citric acid, residual sugar, chlorides, free sulfur dioxide, total sulfur dioxide\n",
      "Expected: _c0 but found: \n",
      "CSV file: file:///Users/robert/Desktop/DataProjects/PySpark%20Tutorial/wines.csv\n"
     ]
    }
   ],
   "source": [
    "# filter less than equal to\n",
    "df_pyspark.filter('_c0 <= 1774').show()"
   ]
  },
  {
   "cell_type": "code",
   "execution_count": 29,
   "id": "013d997a",
   "metadata": {},
   "outputs": [
    {
     "name": "stdout",
     "output_type": "stream",
     "text": [
      "+----------------+--------------+\n",
      "|volatile acidity|residual sugar|\n",
      "+----------------+--------------+\n",
      "|            0.26|           6.4|\n",
      "|            0.22|           8.0|\n",
      "|            0.23|           7.5|\n",
      "+----------------+--------------+\n",
      "\n"
     ]
    },
    {
     "name": "stderr",
     "output_type": "stream",
     "text": [
      "23/04/19 15:40:31 WARN CSVHeaderChecker: CSV header does not conform to the schema.\n",
      " Header: , volatile acidity, residual sugar\n",
      " Schema: _c0, volatile acidity, residual sugar\n",
      "Expected: _c0 but found: \n",
      "CSV file: file:///Users/robert/Desktop/DataProjects/PySpark%20Tutorial/wines.csv\n"
     ]
    }
   ],
   "source": [
    "# select specific columns that meet filter requirements\n",
    "df_pyspark.filter('_c0 <= 1779').select(['volatile acidity', 'residual sugar']).show()"
   ]
  },
  {
   "cell_type": "code",
   "execution_count": 32,
   "id": "29335675",
   "metadata": {},
   "outputs": [
    {
     "data": {
      "text/plain": [
       "DataFrame[_c0: int, fixed acidity: double, volatile acidity: double, citric acid: double, residual sugar: double, chlorides: double, free sulfur dioxide: double, total sulfur dioxide: double]"
      ]
     },
     "execution_count": 32,
     "metadata": {},
     "output_type": "execute_result"
    }
   ],
   "source": [
    "# filter on multiple conditions\n",
    "df_pyspark.filter((df_pyspark['volatile acidity'] >= 0.23) & (df_pyspark['volatile acidity'] < 0.26))"
   ]
  },
  {
   "cell_type": "code",
   "execution_count": 34,
   "id": "b84b899c",
   "metadata": {},
   "outputs": [
    {
     "name": "stdout",
     "output_type": "stream",
     "text": [
      "+----+-------------+----------------+-----------+--------------+---------+-------------------+--------------------+\n",
      "| _c0|fixed acidity|volatile acidity|citric acid|residual sugar|chlorides|free sulfur dioxide|total sulfur dioxide|\n",
      "+----+-------------+----------------+-----------+--------------+---------+-------------------+--------------------+\n",
      "|1791|          6.8|            0.28|       0.36|           8.0|    0.045|               28.0|               123.0|\n",
      "|1802|          6.8|            0.26|       0.34|          13.9|    0.034|               39.0|               134.0|\n",
      "|1910|          5.0|            0.55|       0.14|           8.3|    0.032|               35.0|               164.0|\n",
      "|1917|          5.9|             0.3|       0.47|          7.85|     0.03|               19.0|               133.0|\n",
      "|1950|          7.3|            0.33|        0.4|          6.85|    0.038|               32.0|               138.0|\n",
      "|1952|          7.3|            0.33|        0.4|          6.85|    0.038|               32.0|               138.0|\n",
      "+----+-------------+----------------+-----------+--------------+---------+-------------------+--------------------+\n",
      "\n"
     ]
    },
    {
     "name": "stderr",
     "output_type": "stream",
     "text": [
      "23/04/19 15:43:44 WARN CSVHeaderChecker: CSV header does not conform to the schema.\n",
      " Header: , fixed acidity, volatile acidity, citric acid, residual sugar, chlorides, free sulfur dioxide, total sulfur dioxide\n",
      " Schema: _c0, fixed acidity, volatile acidity, citric acid, residual sugar, chlorides, free sulfur dioxide, total sulfur dioxide\n",
      "Expected: _c0 but found: \n",
      "CSV file: file:///Users/robert/Desktop/DataProjects/PySpark%20Tutorial/wines.csv\n"
     ]
    }
   ],
   "source": [
    "# filter on not condition\n",
    "df_pyspark.filter(~(df_pyspark['_c0'] <= 1774)).show()"
   ]
  }
 ],
 "metadata": {
  "kernelspec": {
   "display_name": "venv",
   "language": "python",
   "name": "venv"
  },
  "language_info": {
   "codemirror_mode": {
    "name": "ipython",
    "version": 3
   },
   "file_extension": ".py",
   "mimetype": "text/x-python",
   "name": "python",
   "nbconvert_exporter": "python",
   "pygments_lexer": "ipython3",
   "version": "3.11.2"
  }
 },
 "nbformat": 4,
 "nbformat_minor": 5
}
