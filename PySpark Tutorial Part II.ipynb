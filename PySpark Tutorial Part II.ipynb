{
 "cells": [
  {
   "cell_type": "code",
   "execution_count": 1,
   "id": "c91aaeb3",
   "metadata": {},
   "outputs": [],
   "source": [
    "from pyspark.sql import SparkSession"
   ]
  },
  {
   "cell_type": "markdown",
   "id": "9ca1271e",
   "metadata": {},
   "source": [
    "# PySpark Tutorial: DataFrames"
   ]
  },
  {
   "cell_type": "code",
   "execution_count": 2,
   "id": "c839e72f",
   "metadata": {},
   "outputs": [
    {
     "name": "stderr",
     "output_type": "stream",
     "text": [
      "23/04/18 16:53:12 WARN Utils: Your hostname, Zipcoders-MacBook-Pro-60.local resolves to a loopback address: 127.0.0.1; using 192.168.3.39 instead (on interface en0)\n",
      "23/04/18 16:53:12 WARN Utils: Set SPARK_LOCAL_IP if you need to bind to another address\n",
      "Setting default log level to \"WARN\".\n",
      "To adjust logging level use sc.setLogLevel(newLevel). For SparkR, use setLogLevel(newLevel).\n",
      "23/04/18 16:53:12 WARN NativeCodeLoader: Unable to load native-hadoop library for your platform... using builtin-java classes where applicable\n",
      "23/04/18 16:53:13 WARN Utils: Service 'SparkUI' could not bind on port 4040. Attempting port 4041.\n"
     ]
    }
   ],
   "source": [
    "spark=SparkSession.builder.appName('DataFrame').getOrCreate()"
   ]
  },
  {
   "cell_type": "code",
   "execution_count": 3,
   "id": "ea83543b",
   "metadata": {},
   "outputs": [
    {
     "data": {
      "text/html": [
       "\n",
       "            <div>\n",
       "                <p><b>SparkSession - in-memory</b></p>\n",
       "                \n",
       "        <div>\n",
       "            <p><b>SparkContext</b></p>\n",
       "\n",
       "            <p><a href=\"http://192.168.3.39:4041\">Spark UI</a></p>\n",
       "\n",
       "            <dl>\n",
       "              <dt>Version</dt>\n",
       "                <dd><code>v3.4.0</code></dd>\n",
       "              <dt>Master</dt>\n",
       "                <dd><code>local[*]</code></dd>\n",
       "              <dt>AppName</dt>\n",
       "                <dd><code>DataFrame</code></dd>\n",
       "            </dl>\n",
       "        </div>\n",
       "        \n",
       "            </div>\n",
       "        "
      ],
      "text/plain": [
       "<pyspark.sql.session.SparkSession at 0x10a7229d0>"
      ]
     },
     "execution_count": 3,
     "metadata": {},
     "output_type": "execute_result"
    }
   ],
   "source": [
    "spark"
   ]
  },
  {
   "cell_type": "code",
   "execution_count": 9,
   "id": "9f9f9849",
   "metadata": {},
   "outputs": [],
   "source": [
    "# read the data set\n",
    "df_pyspark = spark.read.option('header', 'true').csv('wines.csv')"
   ]
  },
  {
   "cell_type": "code",
   "execution_count": 10,
   "id": "4922ebad",
   "metadata": {},
   "outputs": [
    {
     "name": "stdout",
     "output_type": "stream",
     "text": [
      "root\n",
      " |-- _c0: string (nullable = true)\n",
      " |-- fixed acidity: string (nullable = true)\n",
      " |-- volatile acidity: string (nullable = true)\n",
      " |-- citric acid: string (nullable = true)\n",
      " |-- residual sugar: string (nullable = true)\n",
      " |-- chlorides: string (nullable = true)\n",
      " |-- free sulfur dioxide: string (nullable = true)\n",
      " |-- total sulfur dioxide: string (nullable = true)\n",
      " |-- density: string (nullable = true)\n",
      " |-- pH: string (nullable = true)\n",
      " |-- sulphates: string (nullable = true)\n",
      " |-- alcohol: string (nullable = true)\n",
      " |-- quality: string (nullable = true)\n",
      " |-- color: string (nullable = true)\n",
      " |-- sweet_or_not: string (nullable = true)\n",
      " |-- i_like_it: string (nullable = true)\n",
      "\n"
     ]
    }
   ],
   "source": [
    "# check the schema\n",
    "df_pyspark.printSchema()"
   ]
  },
  {
   "cell_type": "code",
   "execution_count": 12,
   "id": "bf19880d",
   "metadata": {},
   "outputs": [
    {
     "name": "stdout",
     "output_type": "stream",
     "text": [
      "+----+-------------+----------------+-----------+--------------+------------------+-------------------+--------------------+-------+----+---------+-------+-------+-----+------------+---------+\n",
      "| _c0|fixed acidity|volatile acidity|citric acid|residual sugar|         chlorides|free sulfur dioxide|total sulfur dioxide|density|  pH|sulphates|alcohol|quality|color|sweet_or_not|i_like_it|\n",
      "+----+-------------+----------------+-----------+--------------+------------------+-------------------+--------------------+-------+----+---------+-------+-------+-----+------------+---------+\n",
      "|1665|          6.4|            0.26|       0.24|           6.4|              0.04|               27.0|               124.0| 0.9903|3.22|     0.49|   12.6|      7|white|        true|     true|\n",
      "|1749|          7.9|            0.22|       0.38|           8.0|             0.043|               46.0|               152.0| 0.9934|3.12|     0.32|   11.5|      7|white|        true|     true|\n",
      "|1774|          6.9|            0.23|        0.4|           7.5|              0.04|               50.0|               151.0| 0.9927|3.11|     0.27|   11.4|      6|white|        true|     true|\n",
      "|1791|          6.8|            0.28|       0.36|           8.0|             0.045|               28.0|               123.0| 0.9928|3.02|     0.37|   11.4|      6|white|        true|     true|\n",
      "|1802|          6.8|            0.26|       0.34|          13.9|             0.034|               39.0|               134.0| 0.9949|3.33|     0.53|   12.0|      6|white|        true|     true|\n",
      "|1910|          5.0|            0.55|       0.14|           8.3|             0.032|               35.0|               164.0| 0.9918|3.53|     0.51|   12.5|      8|white|        true|     true|\n",
      "|1917|          5.9|             0.3|       0.47|          7.85|              0.03|               19.0|               133.0| 0.9933|3.52|     0.43|   11.5|      7|white|        true|     true|\n",
      "|1950|          7.3|            0.33|        0.4|          6.85|             0.038|               32.0|               138.0|  0.992|3.03|      0.3|   11.9|      7|white|        true|     true|\n",
      "|1952|          7.3|            0.33|        0.4|          6.85|             0.038|               32.0|               138.0|  0.992|3.03|      0.3|   11.9|      7|white|        true|     true|\n",
      "|2003|          6.8|            0.22|       0.31|           6.3|             0.035|               33.0|               170.0| 0.9918|3.24|     0.66|   12.6|      6|white|        true|     true|\n",
      "|2033|          7.0|            0.23|       0.36|           7.1|0.0279999999999999|               31.0|               104.0| 0.9922|3.35|     0.47|   12.1|      8|white|        true|     true|\n",
      "|2034|          6.9|             0.2|       0.37|           6.2|             0.027|               24.0|                97.0|  0.992|3.38|     0.49|   12.2|      7|white|        true|     true|\n",
      "|2094|          5.7|            0.44|       0.13|           7.0|             0.025|               28.0|               173.0| 0.9913|3.33|     0.48|   12.5|      6|white|        true|     true|\n",
      "|2165|          7.2|            0.35|       0.34|          12.4|             0.051|                6.0|                37.0| 0.9944|3.13|     0.39|   11.5|      6|white|        true|     true|\n",
      "|2178|          6.0|            0.38|       0.26|           6.0|             0.034|               42.0|               134.0| 0.9912|3.38|     0.38|   12.3|      7|white|        true|     true|\n",
      "|2260|          6.8|            0.25|       0.34|          14.0|             0.032|               47.0|               133.0| 0.9952|3.37|      0.5|   12.2|      7|white|        true|     true|\n",
      "|2271|          7.1|            0.32|       0.34|          14.5|             0.039|               46.0|               150.0|  0.995|3.38|      0.5|   12.5|      8|white|        true|     true|\n",
      "|2346|          7.2|            0.29|        0.4|           7.6|             0.024|               56.0|               177.0| 0.9928|3.04|     0.32|   11.5|      6|white|        true|     true|\n",
      "|2348|          7.3|             0.3|       0.42|          7.35|             0.025|               51.0|               175.0| 0.9928|3.04|     0.32|   11.4|      6|white|        true|     true|\n",
      "|2349|          7.2|            0.29|        0.4|           7.6|             0.024|               56.0|               177.0| 0.9928|3.04|     0.32|   11.5|      6|white|        true|     true|\n",
      "+----+-------------+----------------+-----------+--------------+------------------+-------------------+--------------------+-------+----+---------+-------+-------+-----+------------+---------+\n",
      "only showing top 20 rows\n",
      "\n"
     ]
    },
    {
     "name": "stderr",
     "output_type": "stream",
     "text": [
      "23/04/18 16:58:42 WARN CSVHeaderChecker: CSV header does not conform to the schema.\n",
      " Header: , fixed acidity, volatile acidity, citric acid, residual sugar, chlorides, free sulfur dioxide, total sulfur dioxide, density, pH, sulphates, alcohol, quality, color, sweet_or_not, i_like_it\n",
      " Schema: _c0, fixed acidity, volatile acidity, citric acid, residual sugar, chlorides, free sulfur dioxide, total sulfur dioxide, density, pH, sulphates, alcohol, quality, color, sweet_or_not, i_like_it\n",
      "Expected: _c0 but found: \n",
      "CSV file: file:///Users/robert/Desktop/DataProjects/PySpark%20Tutorial/wines.csv\n"
     ]
    }
   ],
   "source": [
    "df_pyspark = spark.read.csv('wines.csv', header=True, inferSchema=True)\n",
    "df_pyspark.show()"
   ]
  },
  {
   "cell_type": "code",
   "execution_count": 13,
   "id": "7257d319",
   "metadata": {},
   "outputs": [
    {
     "name": "stdout",
     "output_type": "stream",
     "text": [
      "root\n",
      " |-- _c0: integer (nullable = true)\n",
      " |-- fixed acidity: double (nullable = true)\n",
      " |-- volatile acidity: double (nullable = true)\n",
      " |-- citric acid: double (nullable = true)\n",
      " |-- residual sugar: double (nullable = true)\n",
      " |-- chlorides: double (nullable = true)\n",
      " |-- free sulfur dioxide: double (nullable = true)\n",
      " |-- total sulfur dioxide: double (nullable = true)\n",
      " |-- density: double (nullable = true)\n",
      " |-- pH: double (nullable = true)\n",
      " |-- sulphates: double (nullable = true)\n",
      " |-- alcohol: double (nullable = true)\n",
      " |-- quality: integer (nullable = true)\n",
      " |-- color: string (nullable = true)\n",
      " |-- sweet_or_not: boolean (nullable = true)\n",
      " |-- i_like_it: boolean (nullable = true)\n",
      "\n"
     ]
    }
   ],
   "source": [
    "df_pyspark.printSchema()"
   ]
  },
  {
   "cell_type": "code",
   "execution_count": 14,
   "id": "23ce44a1",
   "metadata": {},
   "outputs": [
    {
     "data": {
      "text/plain": [
       "pyspark.sql.dataframe.DataFrame"
      ]
     },
     "execution_count": 14,
     "metadata": {},
     "output_type": "execute_result"
    }
   ],
   "source": [
    "type(df_pyspark)"
   ]
  },
  {
   "cell_type": "code",
   "execution_count": 16,
   "id": "491155b3",
   "metadata": {},
   "outputs": [
    {
     "name": "stderr",
     "output_type": "stream",
     "text": [
      "23/04/18 17:00:56 WARN CSVHeaderChecker: CSV header does not conform to the schema.\n",
      " Header: , fixed acidity, volatile acidity, citric acid, residual sugar, chlorides, free sulfur dioxide, total sulfur dioxide, density, pH, sulphates, alcohol, quality, color, sweet_or_not, i_like_it\n",
      " Schema: _c0, fixed acidity, volatile acidity, citric acid, residual sugar, chlorides, free sulfur dioxide, total sulfur dioxide, density, pH, sulphates, alcohol, quality, color, sweet_or_not, i_like_it\n",
      "Expected: _c0 but found: \n",
      "CSV file: file:///Users/robert/Desktop/DataProjects/PySpark%20Tutorial/wines.csv\n"
     ]
    },
    {
     "data": {
      "text/plain": [
       "[Row(_c0=1665, fixed acidity=6.4, volatile acidity=0.26, citric acid=0.24, residual sugar=6.4, chlorides=0.04, free sulfur dioxide=27.0, total sulfur dioxide=124.0, density=0.9903, pH=3.22, sulphates=0.49, alcohol=12.6, quality=7, color='white', sweet_or_not=True, i_like_it=True),\n",
       " Row(_c0=1749, fixed acidity=7.9, volatile acidity=0.22, citric acid=0.38, residual sugar=8.0, chlorides=0.043, free sulfur dioxide=46.0, total sulfur dioxide=152.0, density=0.9934, pH=3.12, sulphates=0.32, alcohol=11.5, quality=7, color='white', sweet_or_not=True, i_like_it=True)]"
      ]
     },
     "execution_count": 16,
     "metadata": {},
     "output_type": "execute_result"
    }
   ],
   "source": [
    "df_pyspark.head(2)"
   ]
  },
  {
   "cell_type": "code",
   "execution_count": 19,
   "id": "7993af71",
   "metadata": {},
   "outputs": [
    {
     "name": "stdout",
     "output_type": "stream",
     "text": [
      "+-------------+------------------+\n",
      "|fixed acidity|         chlorides|\n",
      "+-------------+------------------+\n",
      "|          6.4|              0.04|\n",
      "|          7.9|             0.043|\n",
      "|          6.9|              0.04|\n",
      "|          6.8|             0.045|\n",
      "|          6.8|             0.034|\n",
      "|          5.0|             0.032|\n",
      "|          5.9|              0.03|\n",
      "|          7.3|             0.038|\n",
      "|          7.3|             0.038|\n",
      "|          6.8|             0.035|\n",
      "|          7.0|0.0279999999999999|\n",
      "|          6.9|             0.027|\n",
      "|          5.7|             0.025|\n",
      "|          7.2|             0.051|\n",
      "|          6.0|             0.034|\n",
      "|          6.8|             0.032|\n",
      "|          7.1|             0.039|\n",
      "|          7.2|             0.024|\n",
      "|          7.3|             0.025|\n",
      "|          7.2|             0.024|\n",
      "+-------------+------------------+\n",
      "only showing top 20 rows\n",
      "\n"
     ]
    }
   ],
   "source": [
    "# select by column name\n",
    "df_pyspark.select('fixed acidity', 'chlorides').show()"
   ]
  },
  {
   "cell_type": "code",
   "execution_count": 20,
   "id": "a26d629a",
   "metadata": {},
   "outputs": [
    {
     "data": {
      "text/plain": [
       "Column<'chlorides'>"
      ]
     },
     "execution_count": 20,
     "metadata": {},
     "output_type": "execute_result"
    }
   ],
   "source": [
    "# will only return Column \n",
    "df_pyspark['chlorides']"
   ]
  },
  {
   "cell_type": "code",
   "execution_count": 21,
   "id": "6663c27f",
   "metadata": {},
   "outputs": [
    {
     "data": {
      "text/plain": [
       "[('_c0', 'int'),\n",
       " ('fixed acidity', 'double'),\n",
       " ('volatile acidity', 'double'),\n",
       " ('citric acid', 'double'),\n",
       " ('residual sugar', 'double'),\n",
       " ('chlorides', 'double'),\n",
       " ('free sulfur dioxide', 'double'),\n",
       " ('total sulfur dioxide', 'double'),\n",
       " ('density', 'double'),\n",
       " ('pH', 'double'),\n",
       " ('sulphates', 'double'),\n",
       " ('alcohol', 'double'),\n",
       " ('quality', 'int'),\n",
       " ('color', 'string'),\n",
       " ('sweet_or_not', 'boolean'),\n",
       " ('i_like_it', 'boolean')]"
      ]
     },
     "execution_count": 21,
     "metadata": {},
     "output_type": "execute_result"
    }
   ],
   "source": [
    "df_pyspark.dtypes"
   ]
  },
  {
   "cell_type": "code",
   "execution_count": 23,
   "id": "9ba1c38a",
   "metadata": {},
   "outputs": [
    {
     "name": "stderr",
     "output_type": "stream",
     "text": [
      "23/04/18 17:05:17 WARN package: Truncated the string representation of a plan since it was too large. This behavior can be adjusted by setting 'spark.sql.debug.maxToStringFields'.\n",
      "23/04/18 17:05:17 WARN CSVHeaderChecker: CSV header does not conform to the schema.\n",
      " Header: , fixed acidity, volatile acidity, citric acid, residual sugar, chlorides, free sulfur dioxide, total sulfur dioxide, density, pH, sulphates, alcohol, quality, color\n",
      " Schema: _c0, fixed acidity, volatile acidity, citric acid, residual sugar, chlorides, free sulfur dioxide, total sulfur dioxide, density, pH, sulphates, alcohol, quality, color\n",
      "Expected: _c0 but found: \n",
      "CSV file: file:///Users/robert/Desktop/DataProjects/PySpark%20Tutorial/wines.csv\n"
     ]
    },
    {
     "name": "stdout",
     "output_type": "stream",
     "text": [
      "+-------+------------------+------------------+-------------------+-------------------+-----------------+--------------------+-------------------+--------------------+-------------------+-------------------+-------------------+------------------+------------------+-----+\n",
      "|summary|               _c0|     fixed acidity|   volatile acidity|        citric acid|   residual sugar|           chlorides|free sulfur dioxide|total sulfur dioxide|            density|                 pH|          sulphates|           alcohol|           quality|color|\n",
      "+-------+------------------+------------------+-------------------+-------------------+-----------------+--------------------+-------------------+--------------------+-------------------+-------------------+-------------------+------------------+------------------+-----+\n",
      "|  count|               285|               285|                285|                285|              285|                 285|                285|                 285|                285|                285|                285|               285|               285|  285|\n",
      "|   mean| 4529.364912280702| 6.858596491228064|0.32015789473684164|0.33838596491228057|8.749824561403502|0.033764912280701734| 31.694736842105264|   123.1719298245614| 0.9927964210526308|  3.164982456140351|0.44256140350877154|12.162327485380114| 6.659649122807018| null|\n",
      "| stddev|1224.8531300992017|0.8099979103530934|0.09850766565468579|0.12252992655230908| 4.36695436913081|0.008107388632131746|  12.74705739383137|  31.485664938425167|0.00309816583033109|0.14747791565730137|0.12739853979416405|0.5647021334955665|0.7020743031588026| null|\n",
      "|    min|              1665|               3.8|              0.125|                0.0|             5.45|  0.0139999999999999|                3.0|                28.0|            0.98934|               2.82|               0.22|11.333333333333302|                 6|white|\n",
      "|    max|              6485|               9.0|              0.965|                1.0|             65.8|               0.074|               73.0|               216.0|            1.03898|               3.75|               1.08|             14.05|                 8|white|\n",
      "+-------+------------------+------------------+-------------------+-------------------+-----------------+--------------------+-------------------+--------------------+-------------------+-------------------+-------------------+------------------+------------------+-----+\n",
      "\n"
     ]
    }
   ],
   "source": [
    "df_pyspark.describe().show()"
   ]
  },
  {
   "cell_type": "code",
   "execution_count": 41,
   "id": "1d47b99e",
   "metadata": {},
   "outputs": [
    {
     "name": "stdout",
     "output_type": "stream",
     "text": [
      "+----+-------------+----------------+-----------+--------------+------------------+-------------------+--------------------+-------+----+---------+-------+-------+-----+------------+---------+------------------+\n",
      "| _c0|fixed acidity|volatile acidity|citric acid|residual sugar|         chlorides|free sulfur dioxide|total sulfur dioxide|density|  pH|sulphates|alcohol|quality|color|sweet_or_not|i_like_it|              quiz|\n",
      "+----+-------------+----------------+-----------+--------------+------------------+-------------------+--------------------+-------+----+---------+-------+-------+-----+------------+---------+------------------+\n",
      "|1665|          6.4|            0.26|       0.24|           6.4|              0.04|               27.0|               124.0| 0.9903|3.22|     0.49|   12.6|      7|white|        true|     true|              0.08|\n",
      "|1749|          7.9|            0.22|       0.38|           8.0|             0.043|               46.0|               152.0| 0.9934|3.12|     0.32|   11.5|      7|white|        true|     true|             0.086|\n",
      "|1774|          6.9|            0.23|        0.4|           7.5|              0.04|               50.0|               151.0| 0.9927|3.11|     0.27|   11.4|      6|white|        true|     true|              0.08|\n",
      "|1791|          6.8|            0.28|       0.36|           8.0|             0.045|               28.0|               123.0| 0.9928|3.02|     0.37|   11.4|      6|white|        true|     true|              0.09|\n",
      "|1802|          6.8|            0.26|       0.34|          13.9|             0.034|               39.0|               134.0| 0.9949|3.33|     0.53|   12.0|      6|white|        true|     true|             0.068|\n",
      "|1910|          5.0|            0.55|       0.14|           8.3|             0.032|               35.0|               164.0| 0.9918|3.53|     0.51|   12.5|      8|white|        true|     true|             0.064|\n",
      "|1917|          5.9|             0.3|       0.47|          7.85|              0.03|               19.0|               133.0| 0.9933|3.52|     0.43|   11.5|      7|white|        true|     true|              0.06|\n",
      "|1950|          7.3|            0.33|        0.4|          6.85|             0.038|               32.0|               138.0|  0.992|3.03|      0.3|   11.9|      7|white|        true|     true|             0.076|\n",
      "|1952|          7.3|            0.33|        0.4|          6.85|             0.038|               32.0|               138.0|  0.992|3.03|      0.3|   11.9|      7|white|        true|     true|             0.076|\n",
      "|2003|          6.8|            0.22|       0.31|           6.3|             0.035|               33.0|               170.0| 0.9918|3.24|     0.66|   12.6|      6|white|        true|     true|              0.07|\n",
      "|2033|          7.0|            0.23|       0.36|           7.1|0.0279999999999999|               31.0|               104.0| 0.9922|3.35|     0.47|   12.1|      8|white|        true|     true|0.0559999999999998|\n",
      "|2034|          6.9|             0.2|       0.37|           6.2|             0.027|               24.0|                97.0|  0.992|3.38|     0.49|   12.2|      7|white|        true|     true|             0.054|\n",
      "|2094|          5.7|            0.44|       0.13|           7.0|             0.025|               28.0|               173.0| 0.9913|3.33|     0.48|   12.5|      6|white|        true|     true|              0.05|\n",
      "|2165|          7.2|            0.35|       0.34|          12.4|             0.051|                6.0|                37.0| 0.9944|3.13|     0.39|   11.5|      6|white|        true|     true|             0.102|\n",
      "|2178|          6.0|            0.38|       0.26|           6.0|             0.034|               42.0|               134.0| 0.9912|3.38|     0.38|   12.3|      7|white|        true|     true|             0.068|\n",
      "|2260|          6.8|            0.25|       0.34|          14.0|             0.032|               47.0|               133.0| 0.9952|3.37|      0.5|   12.2|      7|white|        true|     true|             0.064|\n",
      "|2271|          7.1|            0.32|       0.34|          14.5|             0.039|               46.0|               150.0|  0.995|3.38|      0.5|   12.5|      8|white|        true|     true|             0.078|\n",
      "|2346|          7.2|            0.29|        0.4|           7.6|             0.024|               56.0|               177.0| 0.9928|3.04|     0.32|   11.5|      6|white|        true|     true|             0.048|\n",
      "|2348|          7.3|             0.3|       0.42|          7.35|             0.025|               51.0|               175.0| 0.9928|3.04|     0.32|   11.4|      6|white|        true|     true|              0.05|\n",
      "|2349|          7.2|            0.29|        0.4|           7.6|             0.024|               56.0|               177.0| 0.9928|3.04|     0.32|   11.5|      6|white|        true|     true|             0.048|\n",
      "+----+-------------+----------------+-----------+--------------+------------------+-------------------+--------------------+-------+----+---------+-------+-------+-----+------------+---------+------------------+\n",
      "only showing top 20 rows\n",
      "\n"
     ]
    },
    {
     "name": "stderr",
     "output_type": "stream",
     "text": [
      "23/04/18 17:15:50 WARN CSVHeaderChecker: CSV header does not conform to the schema.\n",
      " Header: , fixed acidity, volatile acidity, citric acid, residual sugar, chlorides, free sulfur dioxide, total sulfur dioxide, density, pH, sulphates, alcohol, quality, color, sweet_or_not, i_like_it\n",
      " Schema: _c0, fixed acidity, volatile acidity, citric acid, residual sugar, chlorides, free sulfur dioxide, total sulfur dioxide, density, pH, sulphates, alcohol, quality, color, sweet_or_not, i_like_it\n",
      "Expected: _c0 but found: \n",
      "CSV file: file:///Users/robert/Desktop/DataProjects/PySpark%20Tutorial/wines.csv\n"
     ]
    }
   ],
   "source": [
    "# add columns in dataframe\n",
    "df_pyspark.withColumn('quiz', df_pyspark['chlorides'] * 2).show()"
   ]
  },
  {
   "cell_type": "code",
   "execution_count": 42,
   "id": "8540ddff",
   "metadata": {},
   "outputs": [
    {
     "data": {
      "text/plain": [
       "DataFrame[_c0: int, fixed acidity: double, volatile acidity: double, citric acid: double, residual sugar: double, chlorides: double, free sulfur dioxide: double, total sulfur dioxide: double, density: double, pH: double, sulphates: double, alcohol: double, quality: int, color: string, sweet_or_not: boolean, i_like_it: boolean]"
      ]
     },
     "execution_count": 42,
     "metadata": {},
     "output_type": "execute_result"
    }
   ],
   "source": [
    "# drop column\n",
    "df_pyspark.drop('quiz')"
   ]
  },
  {
   "cell_type": "code",
   "execution_count": 49,
   "id": "595efb76",
   "metadata": {},
   "outputs": [
    {
     "name": "stdout",
     "output_type": "stream",
     "text": [
      "+----+-------------+----------------+-----------+--------------+------------------+-------------------+--------------------+-------+----+---------+-------+-------+-----+------------+---------+------------------+\n",
      "| _c0|fixed acidity|volatile acidity|citric acid|residual sugar|         chlorides|free sulfur dioxide|total sulfur dioxide|density|  pH|sulphates|alcohol|quality|color|sweet_or_not|i_like_it|              test|\n",
      "+----+-------------+----------------+-----------+--------------+------------------+-------------------+--------------------+-------+----+---------+-------+-------+-----+------------+---------+------------------+\n",
      "|1665|          6.4|            0.26|       0.24|           6.4|              0.04|               27.0|               124.0| 0.9903|3.22|     0.49|   12.6|      7|white|        true|     true|              0.08|\n",
      "|1749|          7.9|            0.22|       0.38|           8.0|             0.043|               46.0|               152.0| 0.9934|3.12|     0.32|   11.5|      7|white|        true|     true|             0.086|\n",
      "|1774|          6.9|            0.23|        0.4|           7.5|              0.04|               50.0|               151.0| 0.9927|3.11|     0.27|   11.4|      6|white|        true|     true|              0.08|\n",
      "|1791|          6.8|            0.28|       0.36|           8.0|             0.045|               28.0|               123.0| 0.9928|3.02|     0.37|   11.4|      6|white|        true|     true|              0.09|\n",
      "|1802|          6.8|            0.26|       0.34|          13.9|             0.034|               39.0|               134.0| 0.9949|3.33|     0.53|   12.0|      6|white|        true|     true|             0.068|\n",
      "|1910|          5.0|            0.55|       0.14|           8.3|             0.032|               35.0|               164.0| 0.9918|3.53|     0.51|   12.5|      8|white|        true|     true|             0.064|\n",
      "|1917|          5.9|             0.3|       0.47|          7.85|              0.03|               19.0|               133.0| 0.9933|3.52|     0.43|   11.5|      7|white|        true|     true|              0.06|\n",
      "|1950|          7.3|            0.33|        0.4|          6.85|             0.038|               32.0|               138.0|  0.992|3.03|      0.3|   11.9|      7|white|        true|     true|             0.076|\n",
      "|1952|          7.3|            0.33|        0.4|          6.85|             0.038|               32.0|               138.0|  0.992|3.03|      0.3|   11.9|      7|white|        true|     true|             0.076|\n",
      "|2003|          6.8|            0.22|       0.31|           6.3|             0.035|               33.0|               170.0| 0.9918|3.24|     0.66|   12.6|      6|white|        true|     true|              0.07|\n",
      "|2033|          7.0|            0.23|       0.36|           7.1|0.0279999999999999|               31.0|               104.0| 0.9922|3.35|     0.47|   12.1|      8|white|        true|     true|0.0559999999999998|\n",
      "|2034|          6.9|             0.2|       0.37|           6.2|             0.027|               24.0|                97.0|  0.992|3.38|     0.49|   12.2|      7|white|        true|     true|             0.054|\n",
      "|2094|          5.7|            0.44|       0.13|           7.0|             0.025|               28.0|               173.0| 0.9913|3.33|     0.48|   12.5|      6|white|        true|     true|              0.05|\n",
      "|2165|          7.2|            0.35|       0.34|          12.4|             0.051|                6.0|                37.0| 0.9944|3.13|     0.39|   11.5|      6|white|        true|     true|             0.102|\n",
      "|2178|          6.0|            0.38|       0.26|           6.0|             0.034|               42.0|               134.0| 0.9912|3.38|     0.38|   12.3|      7|white|        true|     true|             0.068|\n",
      "|2260|          6.8|            0.25|       0.34|          14.0|             0.032|               47.0|               133.0| 0.9952|3.37|      0.5|   12.2|      7|white|        true|     true|             0.064|\n",
      "|2271|          7.1|            0.32|       0.34|          14.5|             0.039|               46.0|               150.0|  0.995|3.38|      0.5|   12.5|      8|white|        true|     true|             0.078|\n",
      "|2346|          7.2|            0.29|        0.4|           7.6|             0.024|               56.0|               177.0| 0.9928|3.04|     0.32|   11.5|      6|white|        true|     true|             0.048|\n",
      "|2348|          7.3|             0.3|       0.42|          7.35|             0.025|               51.0|               175.0| 0.9928|3.04|     0.32|   11.4|      6|white|        true|     true|              0.05|\n",
      "|2349|          7.2|            0.29|        0.4|           7.6|             0.024|               56.0|               177.0| 0.9928|3.04|     0.32|   11.5|      6|white|        true|     true|             0.048|\n",
      "+----+-------------+----------------+-----------+--------------+------------------+-------------------+--------------------+-------+----+---------+-------+-------+-----+------------+---------+------------------+\n",
      "only showing top 20 rows\n",
      "\n"
     ]
    },
    {
     "name": "stderr",
     "output_type": "stream",
     "text": [
      "23/04/18 17:18:41 WARN CSVHeaderChecker: CSV header does not conform to the schema.\n",
      " Header: , fixed acidity, volatile acidity, citric acid, residual sugar, chlorides, free sulfur dioxide, total sulfur dioxide, density, pH, sulphates, alcohol, quality, color, sweet_or_not, i_like_it\n",
      " Schema: _c0, fixed acidity, volatile acidity, citric acid, residual sugar, chlorides, free sulfur dioxide, total sulfur dioxide, density, pH, sulphates, alcohol, quality, color, sweet_or_not, i_like_it\n",
      "Expected: _c0 but found: \n",
      "CSV file: file:///Users/robert/Desktop/DataProjects/PySpark%20Tutorial/wines.csv\n"
     ]
    }
   ],
   "source": [
    "# add columns in dataframe\n",
    "df_pyspark.withColumn('test', df_pyspark['chlorides'] * 2).show()"
   ]
  },
  {
   "cell_type": "code",
   "execution_count": 50,
   "id": "7e14dbe1",
   "metadata": {},
   "outputs": [
    {
     "name": "stdout",
     "output_type": "stream",
     "text": [
      "+----+-------------+----------------+-----------+--------------+------------------+-------------------+--------------------+-------+----+---------+-------+-------+-----+------------+---------+\n",
      "| _c0|fixed acidity|volatile acidity|citric acid|residual sugar|         chlorides|free sulfur dioxide|total sulfur dioxide|density|  pH|sulphates|alcohol|quality|color|sweet_or_not|i_like_it|\n",
      "+----+-------------+----------------+-----------+--------------+------------------+-------------------+--------------------+-------+----+---------+-------+-------+-----+------------+---------+\n",
      "|1665|          6.4|            0.26|       0.24|           6.4|              0.04|               27.0|               124.0| 0.9903|3.22|     0.49|   12.6|      7|white|        true|     true|\n",
      "|1749|          7.9|            0.22|       0.38|           8.0|             0.043|               46.0|               152.0| 0.9934|3.12|     0.32|   11.5|      7|white|        true|     true|\n",
      "|1774|          6.9|            0.23|        0.4|           7.5|              0.04|               50.0|               151.0| 0.9927|3.11|     0.27|   11.4|      6|white|        true|     true|\n",
      "|1791|          6.8|            0.28|       0.36|           8.0|             0.045|               28.0|               123.0| 0.9928|3.02|     0.37|   11.4|      6|white|        true|     true|\n",
      "|1802|          6.8|            0.26|       0.34|          13.9|             0.034|               39.0|               134.0| 0.9949|3.33|     0.53|   12.0|      6|white|        true|     true|\n",
      "|1910|          5.0|            0.55|       0.14|           8.3|             0.032|               35.0|               164.0| 0.9918|3.53|     0.51|   12.5|      8|white|        true|     true|\n",
      "|1917|          5.9|             0.3|       0.47|          7.85|              0.03|               19.0|               133.0| 0.9933|3.52|     0.43|   11.5|      7|white|        true|     true|\n",
      "|1950|          7.3|            0.33|        0.4|          6.85|             0.038|               32.0|               138.0|  0.992|3.03|      0.3|   11.9|      7|white|        true|     true|\n",
      "|1952|          7.3|            0.33|        0.4|          6.85|             0.038|               32.0|               138.0|  0.992|3.03|      0.3|   11.9|      7|white|        true|     true|\n",
      "|2003|          6.8|            0.22|       0.31|           6.3|             0.035|               33.0|               170.0| 0.9918|3.24|     0.66|   12.6|      6|white|        true|     true|\n",
      "|2033|          7.0|            0.23|       0.36|           7.1|0.0279999999999999|               31.0|               104.0| 0.9922|3.35|     0.47|   12.1|      8|white|        true|     true|\n",
      "|2034|          6.9|             0.2|       0.37|           6.2|             0.027|               24.0|                97.0|  0.992|3.38|     0.49|   12.2|      7|white|        true|     true|\n",
      "|2094|          5.7|            0.44|       0.13|           7.0|             0.025|               28.0|               173.0| 0.9913|3.33|     0.48|   12.5|      6|white|        true|     true|\n",
      "|2165|          7.2|            0.35|       0.34|          12.4|             0.051|                6.0|                37.0| 0.9944|3.13|     0.39|   11.5|      6|white|        true|     true|\n",
      "|2178|          6.0|            0.38|       0.26|           6.0|             0.034|               42.0|               134.0| 0.9912|3.38|     0.38|   12.3|      7|white|        true|     true|\n",
      "|2260|          6.8|            0.25|       0.34|          14.0|             0.032|               47.0|               133.0| 0.9952|3.37|      0.5|   12.2|      7|white|        true|     true|\n",
      "|2271|          7.1|            0.32|       0.34|          14.5|             0.039|               46.0|               150.0|  0.995|3.38|      0.5|   12.5|      8|white|        true|     true|\n",
      "|2346|          7.2|            0.29|        0.4|           7.6|             0.024|               56.0|               177.0| 0.9928|3.04|     0.32|   11.5|      6|white|        true|     true|\n",
      "|2348|          7.3|             0.3|       0.42|          7.35|             0.025|               51.0|               175.0| 0.9928|3.04|     0.32|   11.4|      6|white|        true|     true|\n",
      "|2349|          7.2|            0.29|        0.4|           7.6|             0.024|               56.0|               177.0| 0.9928|3.04|     0.32|   11.5|      6|white|        true|     true|\n",
      "+----+-------------+----------------+-----------+--------------+------------------+-------------------+--------------------+-------+----+---------+-------+-------+-----+------------+---------+\n",
      "only showing top 20 rows\n",
      "\n"
     ]
    },
    {
     "name": "stderr",
     "output_type": "stream",
     "text": [
      "23/04/18 17:18:50 WARN CSVHeaderChecker: CSV header does not conform to the schema.\n",
      " Header: , fixed acidity, volatile acidity, citric acid, residual sugar, chlorides, free sulfur dioxide, total sulfur dioxide, density, pH, sulphates, alcohol, quality, color, sweet_or_not, i_like_it\n",
      " Schema: _c0, fixed acidity, volatile acidity, citric acid, residual sugar, chlorides, free sulfur dioxide, total sulfur dioxide, density, pH, sulphates, alcohol, quality, color, sweet_or_not, i_like_it\n",
      "Expected: _c0 but found: \n",
      "CSV file: file:///Users/robert/Desktop/DataProjects/PySpark%20Tutorial/wines.csv\n"
     ]
    }
   ],
   "source": [
    "# rename column\n",
    "df_pyspark.withColumnRenamed('test', 'new test').show()"
   ]
  },
  {
   "cell_type": "code",
   "execution_count": null,
   "id": "10a1dd1e",
   "metadata": {},
   "outputs": [],
   "source": []
  },
  {
   "cell_type": "code",
   "execution_count": null,
   "id": "8b2241b6",
   "metadata": {},
   "outputs": [],
   "source": []
  },
  {
   "cell_type": "code",
   "execution_count": null,
   "id": "db4cacbf",
   "metadata": {},
   "outputs": [],
   "source": []
  },
  {
   "cell_type": "code",
   "execution_count": null,
   "id": "3e9523d7",
   "metadata": {},
   "outputs": [],
   "source": []
  }
 ],
 "metadata": {
  "kernelspec": {
   "display_name": "venv",
   "language": "python",
   "name": "venv"
  },
  "language_info": {
   "codemirror_mode": {
    "name": "ipython",
    "version": 3
   },
   "file_extension": ".py",
   "mimetype": "text/x-python",
   "name": "python",
   "nbconvert_exporter": "python",
   "pygments_lexer": "ipython3",
   "version": "3.11.2"
  }
 },
 "nbformat": 4,
 "nbformat_minor": 5
}
