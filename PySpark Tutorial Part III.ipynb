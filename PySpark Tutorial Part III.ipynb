{
 "cells": [
  {
   "cell_type": "markdown",
   "id": "0c20e504",
   "metadata": {},
   "source": [
    "# PySpark Tutorial Part III: Handling Missing Values"
   ]
  },
  {
   "cell_type": "code",
   "execution_count": 5,
   "id": "d12bb24d",
   "metadata": {},
   "outputs": [],
   "source": [
    "from pyspark.sql import SparkSession"
   ]
  },
  {
   "cell_type": "code",
   "execution_count": 6,
   "id": "3d689885",
   "metadata": {},
   "outputs": [
    {
     "name": "stderr",
     "output_type": "stream",
     "text": [
      "23/04/19 13:57:49 WARN Utils: Your hostname, Zipcoders-MacBook-Pro-60.local resolves to a loopback address: 127.0.0.1; using 192.168.3.39 instead (on interface en0)\n",
      "23/04/19 13:57:49 WARN Utils: Set SPARK_LOCAL_IP if you need to bind to another address\n",
      "Setting default log level to \"WARN\".\n",
      "To adjust logging level use sc.setLogLevel(newLevel). For SparkR, use setLogLevel(newLevel).\n",
      "23/04/19 13:57:49 WARN NativeCodeLoader: Unable to load native-hadoop library for your platform... using builtin-java classes where applicable\n"
     ]
    }
   ],
   "source": [
    "spark = SparkSession.builder.appName('HMPractice').getOrCreate()"
   ]
  },
  {
   "cell_type": "code",
   "execution_count": 14,
   "id": "9789b072",
   "metadata": {},
   "outputs": [],
   "source": [
    "df_pyspark = spark.read.csv('wines.csv', header=True, inferSchema=True)"
   ]
  },
  {
   "cell_type": "code",
   "execution_count": 15,
   "id": "ee1c17cf",
   "metadata": {},
   "outputs": [
    {
     "name": "stdout",
     "output_type": "stream",
     "text": [
      "+----+-------------+----------------+-----------+--------------+---------+-------------------+--------------------+\n",
      "| _c0|fixed acidity|volatile acidity|citric acid|residual sugar|chlorides|free sulfur dioxide|total sulfur dioxide|\n",
      "+----+-------------+----------------+-----------+--------------+---------+-------------------+--------------------+\n",
      "|1665|          6.4|            0.26|       0.24|           6.4|     0.04|               27.0|               124.0|\n",
      "|1749|          7.9|            0.22|       0.38|           8.0|    0.043|               46.0|               152.0|\n",
      "|1774|          6.9|            0.23|        0.4|           7.5|     0.04|               50.0|               151.0|\n",
      "|1791|          6.8|            0.28|       0.36|           8.0|    0.045|               28.0|               123.0|\n",
      "|1802|          6.8|            0.26|       0.34|          13.9|    0.034|               39.0|               134.0|\n",
      "|1910|          5.0|            0.55|       0.14|           8.3|    0.032|               35.0|               164.0|\n",
      "|1917|          5.9|             0.3|       0.47|          7.85|     0.03|               19.0|               133.0|\n",
      "|1950|          7.3|            0.33|        0.4|          6.85|    0.038|               32.0|               138.0|\n",
      "|1952|          7.3|            0.33|        0.4|          6.85|    0.038|               32.0|               138.0|\n",
      "+----+-------------+----------------+-----------+--------------+---------+-------------------+--------------------+\n",
      "\n"
     ]
    },
    {
     "name": "stderr",
     "output_type": "stream",
     "text": [
      "23/04/19 14:06:49 WARN CSVHeaderChecker: CSV header does not conform to the schema.\n",
      " Header: , fixed acidity, volatile acidity, citric acid, residual sugar, chlorides, free sulfur dioxide, total sulfur dioxide\n",
      " Schema: _c0, fixed acidity, volatile acidity, citric acid, residual sugar, chlorides, free sulfur dioxide, total sulfur dioxide\n",
      "Expected: _c0 but found: \n",
      "CSV file: file:///Users/robert/Desktop/DataProjects/PySpark%20Tutorial/wines.csv\n"
     ]
    }
   ],
   "source": [
    "df_pyspark.show()"
   ]
  },
  {
   "cell_type": "code",
   "execution_count": 16,
   "id": "7cef98ac",
   "metadata": {},
   "outputs": [
    {
     "name": "stdout",
     "output_type": "stream",
     "text": [
      "+-------------+----------------+-----------+--------------+---------+-------------------+--------------------+\n",
      "|fixed acidity|volatile acidity|citric acid|residual sugar|chlorides|free sulfur dioxide|total sulfur dioxide|\n",
      "+-------------+----------------+-----------+--------------+---------+-------------------+--------------------+\n",
      "|          6.4|            0.26|       0.24|           6.4|     0.04|               27.0|               124.0|\n",
      "|          7.9|            0.22|       0.38|           8.0|    0.043|               46.0|               152.0|\n",
      "|          6.9|            0.23|        0.4|           7.5|     0.04|               50.0|               151.0|\n",
      "|          6.8|            0.28|       0.36|           8.0|    0.045|               28.0|               123.0|\n",
      "|          6.8|            0.26|       0.34|          13.9|    0.034|               39.0|               134.0|\n",
      "|          5.0|            0.55|       0.14|           8.3|    0.032|               35.0|               164.0|\n",
      "|          5.9|             0.3|       0.47|          7.85|     0.03|               19.0|               133.0|\n",
      "|          7.3|            0.33|        0.4|          6.85|    0.038|               32.0|               138.0|\n",
      "|          7.3|            0.33|        0.4|          6.85|    0.038|               32.0|               138.0|\n",
      "+-------------+----------------+-----------+--------------+---------+-------------------+--------------------+\n",
      "\n"
     ]
    }
   ],
   "source": [
    "# drop column by name\n",
    "df_pyspark.drop('_c0').show()"
   ]
  },
  {
   "cell_type": "code",
   "execution_count": null,
   "id": "435d18e2",
   "metadata": {},
   "outputs": [],
   "source": [
    "# drop all rows with NaN values\n",
    "# df_pyspark.na.drop()"
   ]
  },
  {
   "cell_type": "code",
   "execution_count": null,
   "id": "e90d15a7",
   "metadata": {},
   "outputs": [],
   "source": [
    "# any == how - drop only rows where all values are NaN\n",
    "df_pyspark.na.drop(how='all')"
   ]
  },
  {
   "cell_type": "code",
   "execution_count": null,
   "id": "0b524c83",
   "metadata": {},
   "outputs": [],
   "source": [
    "# threshold sets the threshold for non-NaN values a row must have before it is deleted\n",
    "df_pyspark.na.drop(how='any', thresh=2)"
   ]
  },
  {
   "cell_type": "code",
   "execution_count": null,
   "id": "b3636329",
   "metadata": {},
   "outputs": [],
   "source": [
    "# subset drops NaN values from a specific column\n",
    "df_pyspark.na.drop(how='any', subset=[''])"
   ]
  },
  {
   "cell_type": "code",
   "execution_count": null,
   "id": "e5da8fbe",
   "metadata": {},
   "outputs": [],
   "source": [
    "# filling the missing values with 'Missing values'\n",
    "df_pyspark.na.fill('Missing Values')"
   ]
  },
  {
   "cell_type": "code",
   "execution_count": 18,
   "id": "7c66340f",
   "metadata": {},
   "outputs": [
    {
     "data": {
      "text/plain": [
       "DataFrame[_c0: int, fixed acidity: double, volatile acidity: double, citric acid: double, residual sugar: double, chlorides: double, free sulfur dioxide: double, total sulfur dioxide: double]"
      ]
     },
     "execution_count": 18,
     "metadata": {},
     "output_type": "execute_result"
    }
   ],
   "source": [
    "# filling the missing values within a subset of columns\n",
    "df_pyspark.na.fill('Missing Values', ['citric acid', 'chlorides'])"
   ]
  },
  {
   "cell_type": "code",
   "execution_count": 21,
   "id": "15c8a210",
   "metadata": {},
   "outputs": [],
   "source": [
    "from pyspark.ml.feature import Imputer"
   ]
  },
  {
   "cell_type": "code",
   "execution_count": 25,
   "id": "ea6bd37e",
   "metadata": {},
   "outputs": [],
   "source": [
    "imputer = Imputer(\n",
    "    inputCols = ['citric acid', 'chlorides'],\n",
    "    outputCols = [\"{}_imputed\".format(c) for c in ['volatililty', 'citric acid']]).setStrategy('mean')\n",
    "# can be mean, median or mode"
   ]
  },
  {
   "cell_type": "code",
   "execution_count": 26,
   "id": "a7dd3018",
   "metadata": {},
   "outputs": [
    {
     "name": "stdout",
     "output_type": "stream",
     "text": [
      "+----+-------------+----------------+-----------+--------------+---------+-------------------+--------------------+-------------------+-------------------+\n",
      "| _c0|fixed acidity|volatile acidity|citric acid|residual sugar|chlorides|free sulfur dioxide|total sulfur dioxide|volatililty_imputed|citric acid_imputed|\n",
      "+----+-------------+----------------+-----------+--------------+---------+-------------------+--------------------+-------------------+-------------------+\n",
      "|1665|          6.4|            0.26|       0.24|           6.4|     0.04|               27.0|               124.0|               0.24|               0.04|\n",
      "|1749|          7.9|            0.22|       0.38|           8.0|    0.043|               46.0|               152.0|               0.38|              0.043|\n",
      "|1774|          6.9|            0.23|        0.4|           7.5|     0.04|               50.0|               151.0|                0.4|               0.04|\n",
      "|1791|          6.8|            0.28|       0.36|           8.0|    0.045|               28.0|               123.0|               0.36|              0.045|\n",
      "|1802|          6.8|            0.26|       0.34|          13.9|    0.034|               39.0|               134.0|               0.34|              0.034|\n",
      "|1910|          5.0|            0.55|       0.14|           8.3|    0.032|               35.0|               164.0|               0.14|              0.032|\n",
      "|1917|          5.9|             0.3|       0.47|          7.85|     0.03|               19.0|               133.0|               0.47|               0.03|\n",
      "|1950|          7.3|            0.33|        0.4|          6.85|    0.038|               32.0|               138.0|                0.4|              0.038|\n",
      "|1952|          7.3|            0.33|        0.4|          6.85|    0.038|               32.0|               138.0|                0.4|              0.038|\n",
      "+----+-------------+----------------+-----------+--------------+---------+-------------------+--------------------+-------------------+-------------------+\n",
      "\n"
     ]
    },
    {
     "name": "stderr",
     "output_type": "stream",
     "text": [
      "23/04/19 14:30:40 WARN CSVHeaderChecker: CSV header does not conform to the schema.\n",
      " Header: , fixed acidity, volatile acidity, citric acid, residual sugar, chlorides, free sulfur dioxide, total sulfur dioxide\n",
      " Schema: _c0, fixed acidity, volatile acidity, citric acid, residual sugar, chlorides, free sulfur dioxide, total sulfur dioxide\n",
      "Expected: _c0 but found: \n",
      "CSV file: file:///Users/robert/Desktop/DataProjects/PySpark%20Tutorial/wines.csv\n"
     ]
    }
   ],
   "source": [
    "# add imputation columns to datafram\n",
    "imputer.fit(df_pyspark).transform(df_pyspark).show()"
   ]
  },
  {
   "cell_type": "code",
   "execution_count": null,
   "id": "bcbcdf59",
   "metadata": {},
   "outputs": [],
   "source": []
  },
  {
   "cell_type": "code",
   "execution_count": null,
   "id": "7d45aa16",
   "metadata": {},
   "outputs": [],
   "source": []
  },
  {
   "cell_type": "code",
   "execution_count": null,
   "id": "41dccc8b",
   "metadata": {},
   "outputs": [],
   "source": []
  },
  {
   "cell_type": "code",
   "execution_count": null,
   "id": "c3aafe23",
   "metadata": {},
   "outputs": [],
   "source": []
  },
  {
   "cell_type": "code",
   "execution_count": null,
   "id": "919d124d",
   "metadata": {},
   "outputs": [],
   "source": []
  },
  {
   "cell_type": "code",
   "execution_count": null,
   "id": "c78232f8",
   "metadata": {},
   "outputs": [],
   "source": []
  },
  {
   "cell_type": "code",
   "execution_count": null,
   "id": "81efddb1",
   "metadata": {},
   "outputs": [],
   "source": []
  },
  {
   "cell_type": "code",
   "execution_count": null,
   "id": "2050b1db",
   "metadata": {},
   "outputs": [],
   "source": []
  }
 ],
 "metadata": {
  "kernelspec": {
   "display_name": "venv",
   "language": "python",
   "name": "venv"
  },
  "language_info": {
   "codemirror_mode": {
    "name": "ipython",
    "version": 3
   },
   "file_extension": ".py",
   "mimetype": "text/x-python",
   "name": "python",
   "nbconvert_exporter": "python",
   "pygments_lexer": "ipython3",
   "version": "3.11.2"
  }
 },
 "nbformat": 4,
 "nbformat_minor": 5
}
