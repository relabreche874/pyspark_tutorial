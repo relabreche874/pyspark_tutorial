{
 "cells": [
  {
   "cell_type": "markdown",
   "id": "c00cf3ca",
   "metadata": {},
   "source": [
    "# PySpark Tutorial Part V: Groupby and Aggregate Functions"
   ]
  },
  {
   "cell_type": "code",
   "execution_count": 12,
   "id": "6c9d3a60",
   "metadata": {},
   "outputs": [],
   "source": [
    "from pyspark.sql import SparkSession"
   ]
  },
  {
   "cell_type": "code",
   "execution_count": 13,
   "id": "77138c30",
   "metadata": {},
   "outputs": [],
   "source": [
    "spark=SparkSession.builder.appName('Agg').getOrCreate()"
   ]
  },
  {
   "cell_type": "code",
   "execution_count": 14,
   "id": "eb7ccb6d",
   "metadata": {},
   "outputs": [
    {
     "data": {
      "text/html": [
       "\n",
       "            <div>\n",
       "                <p><b>SparkSession - in-memory</b></p>\n",
       "                \n",
       "        <div>\n",
       "            <p><b>SparkContext</b></p>\n",
       "\n",
       "            <p><a href=\"http://192.168.3.39:4040\">Spark UI</a></p>\n",
       "\n",
       "            <dl>\n",
       "              <dt>Version</dt>\n",
       "                <dd><code>v3.4.0</code></dd>\n",
       "              <dt>Master</dt>\n",
       "                <dd><code>local[*]</code></dd>\n",
       "              <dt>AppName</dt>\n",
       "                <dd><code>Agg</code></dd>\n",
       "            </dl>\n",
       "        </div>\n",
       "        \n",
       "            </div>\n",
       "        "
      ],
      "text/plain": [
       "<pyspark.sql.session.SparkSession at 0x109a99e10>"
      ]
     },
     "execution_count": 14,
     "metadata": {},
     "output_type": "execute_result"
    }
   ],
   "source": [
    "spark"
   ]
  },
  {
   "cell_type": "code",
   "execution_count": 15,
   "id": "6797303b",
   "metadata": {},
   "outputs": [],
   "source": [
    "df_pyspark = spark.read.csv('wines.csv', header=True, inferSchema=True)"
   ]
  },
  {
   "cell_type": "code",
   "execution_count": 16,
   "id": "8bae6138",
   "metadata": {},
   "outputs": [
    {
     "name": "stdout",
     "output_type": "stream",
     "text": [
      "+----+-------------+----------------+-----------+--------------+\n",
      "| _c0|fixed acidity|volatile acidity|citric acid|residual sugar|\n",
      "+----+-------------+----------------+-----------+--------------+\n",
      "|1665|          6.4|            0.26|       0.24|           6.4|\n",
      "|1749|          7.9|            0.22|       0.38|           8.0|\n",
      "|1774|          6.9|            0.23|        0.4|           7.5|\n",
      "|1791|          6.8|            0.28|       0.36|           8.0|\n",
      "|1802|          6.8|            0.26|       0.34|          13.9|\n",
      "|1910|          5.0|            0.55|       0.14|           8.3|\n",
      "|1917|          5.9|             0.3|       0.47|          7.85|\n",
      "|1950|          7.3|            0.33|        0.4|          6.85|\n",
      "|1952|          7.3|            0.33|        0.4|          6.85|\n",
      "+----+-------------+----------------+-----------+--------------+\n",
      "\n"
     ]
    },
    {
     "name": "stderr",
     "output_type": "stream",
     "text": [
      "23/04/19 15:54:47 WARN CSVHeaderChecker: CSV header does not conform to the schema.\n",
      " Header: , fixed acidity, volatile acidity, citric acid, residual sugar\n",
      " Schema: _c0, fixed acidity, volatile acidity, citric acid, residual sugar\n",
      "Expected: _c0 but found: \n",
      "CSV file: file:///Users/robert/Desktop/DataProjects/PySpark%20Tutorial/wines.csv\n"
     ]
    }
   ],
   "source": [
    "df_pyspark.show()"
   ]
  },
  {
   "cell_type": "code",
   "execution_count": 17,
   "id": "b4f48846",
   "metadata": {},
   "outputs": [
    {
     "name": "stdout",
     "output_type": "stream",
     "text": [
      "root\n",
      " |-- _c0: integer (nullable = true)\n",
      " |-- fixed acidity: double (nullable = true)\n",
      " |-- volatile acidity: double (nullable = true)\n",
      " |-- citric acid: double (nullable = true)\n",
      " |-- residual sugar: double (nullable = true)\n",
      "\n"
     ]
    }
   ],
   "source": [
    "df_pyspark.printSchema()"
   ]
  },
  {
   "cell_type": "code",
   "execution_count": 11,
   "id": "0322a769",
   "metadata": {},
   "outputs": [
    {
     "name": "stderr",
     "output_type": "stream",
     "text": [
      "23/04/19 15:52:32 WARN CSVHeaderChecker: CSV header does not conform to the schema.\n",
      " Header: , fixed acidity, volatile acidity, citric acid, residual sugar, chlorides, free sulfur dioxide, total sulfur dioxide\n",
      " Schema: _c0, fixed acidity, volatile acidity, citric acid, residual sugar, chlorides, free sulfur dioxide, total sulfur dioxide\n",
      "Expected: _c0 but found: \n",
      "CSV file: file:///Users/robert/Desktop/DataProjects/PySpark%20Tutorial/wines.csv\n"
     ]
    },
    {
     "name": "stdout",
     "output_type": "stream",
     "text": [
      "+----------------+--------+------------------+---------------------+------------------+-------------------+-------------------+------------------------+-------------------------+\n",
      "|volatile acidity|sum(_c0)|sum(fixed acidity)|sum(volatile acidity)|  sum(citric acid)|sum(residual sugar)|     sum(chlorides)|sum(free sulfur dioxide)|sum(total sulfur dioxide)|\n",
      "+----------------+--------+------------------+---------------------+------------------+-------------------+-------------------+------------------------+-------------------------+\n",
      "|            0.23|    1774|               6.9|                 0.23|               0.4|                7.5|               0.04|                    50.0|                    151.0|\n",
      "|            0.26|    3467|              13.2|                 0.52|0.5800000000000001|               20.3|0.07400000000000001|                    66.0|                    258.0|\n",
      "|            0.55|    1910|               5.0|                 0.55|              0.14|                8.3|              0.032|                    35.0|                    164.0|\n",
      "|            0.33|    3902|              14.6|                 0.66|               0.8|               13.7|              0.076|                    64.0|                    276.0|\n",
      "|             0.3|    1917|               5.9|                  0.3|              0.47|               7.85|               0.03|                    19.0|                    133.0|\n",
      "|            0.22|    1749|               7.9|                 0.22|              0.38|                8.0|              0.043|                    46.0|                    152.0|\n",
      "|            0.28|    1791|               6.8|                 0.28|              0.36|                8.0|              0.045|                    28.0|                    123.0|\n",
      "+----------------+--------+------------------+---------------------+------------------+-------------------+-------------------+------------------------+-------------------------+\n",
      "\n"
     ]
    }
   ],
   "source": [
    "# Groupby\n",
    "df_pyspark.groupBy('volatile acidity').sum().show()"
   ]
  },
  {
   "cell_type": "code",
   "execution_count": null,
   "id": "b995672f",
   "metadata": {},
   "outputs": [],
   "source": []
  },
  {
   "cell_type": "code",
   "execution_count": null,
   "id": "7c972adc",
   "metadata": {},
   "outputs": [],
   "source": []
  },
  {
   "cell_type": "code",
   "execution_count": null,
   "id": "4e76fb96",
   "metadata": {},
   "outputs": [],
   "source": []
  },
  {
   "cell_type": "code",
   "execution_count": null,
   "id": "3772fd57",
   "metadata": {},
   "outputs": [],
   "source": []
  },
  {
   "cell_type": "code",
   "execution_count": null,
   "id": "30b2857a",
   "metadata": {},
   "outputs": [],
   "source": []
  },
  {
   "cell_type": "code",
   "execution_count": null,
   "id": "616f4209",
   "metadata": {},
   "outputs": [],
   "source": []
  },
  {
   "cell_type": "code",
   "execution_count": null,
   "id": "a7f4d236",
   "metadata": {},
   "outputs": [],
   "source": []
  },
  {
   "cell_type": "code",
   "execution_count": null,
   "id": "d23e9a9a",
   "metadata": {},
   "outputs": [],
   "source": []
  },
  {
   "cell_type": "code",
   "execution_count": null,
   "id": "e777e4cc",
   "metadata": {},
   "outputs": [],
   "source": []
  },
  {
   "cell_type": "code",
   "execution_count": null,
   "id": "082a1e4e",
   "metadata": {},
   "outputs": [],
   "source": []
  }
 ],
 "metadata": {
  "kernelspec": {
   "display_name": "venv",
   "language": "python",
   "name": "venv"
  },
  "language_info": {
   "codemirror_mode": {
    "name": "ipython",
    "version": 3
   },
   "file_extension": ".py",
   "mimetype": "text/x-python",
   "name": "python",
   "nbconvert_exporter": "python",
   "pygments_lexer": "ipython3",
   "version": "3.11.2"
  }
 },
 "nbformat": 4,
 "nbformat_minor": 5
}
